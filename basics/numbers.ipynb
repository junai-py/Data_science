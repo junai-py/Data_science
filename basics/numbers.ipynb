{
 "cells": [
  {
   "cell_type": "code",
   "execution_count": 1,
   "id": "62d3b996-e7e2-42b7-9223-d55c911f2e70",
   "metadata": {},
   "outputs": [
    {
     "data": {
      "text/plain": [
       "4"
      ]
     },
     "execution_count": 1,
     "metadata": {},
     "output_type": "execute_result"
    }
   ],
   "source": [
    "1+3"
   ]
  },
  {
   "cell_type": "code",
   "execution_count": 2,
   "id": "c4fabe84-814f-40ca-8710-5b4bab1a5ef7",
   "metadata": {},
   "outputs": [
    {
     "name": "stdout",
     "output_type": "stream",
     "text": [
      "4\n"
     ]
    }
   ],
   "source": [
    "print(1+3)"
   ]
  },
  {
   "cell_type": "code",
   "execution_count": 3,
   "id": "8e0e4628-7f7d-448d-8527-63d520f5c9c1",
   "metadata": {},
   "outputs": [
    {
     "name": "stdout",
     "output_type": "stream",
     "text": [
      "this is first line \n",
      " this is second line\n"
     ]
    }
   ],
   "source": [
    "print(\"this is first line \\n this is second line\")"
   ]
  },
  {
   "cell_type": "code",
   "execution_count": 5,
   "id": "da18081e-8be9-46ba-806c-54b6c764725c",
   "metadata": {},
   "outputs": [
    {
     "name": "stdout",
     "output_type": "stream",
     "text": [
      " this is first line\n",
      "this is second line\n",
      "this is third line\n"
     ]
    }
   ],
   "source": [
    "print(''' this is first line\n",
    "this is second line\n",
    "this is third line''')"
   ]
  },
  {
   "cell_type": "code",
   "execution_count": null,
   "id": "8336b4c9-6696-4413-8e64-eea54683505d",
   "metadata": {},
   "outputs": [],
   "source": []
  }
 ],
 "metadata": {
  "kernelspec": {
   "display_name": "Python 3 (ipykernel)",
   "language": "python",
   "name": "python3"
  },
  "language_info": {
   "codemirror_mode": {
    "name": "ipython",
    "version": 3
   },
   "file_extension": ".py",
   "mimetype": "text/x-python",
   "name": "python",
   "nbconvert_exporter": "python",
   "pygments_lexer": "ipython3",
   "version": "3.10.8"
  }
 },
 "nbformat": 4,
 "nbformat_minor": 5
}
