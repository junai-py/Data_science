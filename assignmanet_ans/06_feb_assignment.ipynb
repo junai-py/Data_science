{
 "cells": [
  {
   "cell_type": "markdown",
   "id": "6dfce049-c2b8-4d46-b254-161958954467",
   "metadata": {},
   "source": [
    "# Q1. Create a function which will take a list as an argument and return the product of all the numbers after creating a flat list.\n",
    "## Use the below-given list as an argument for your function.\n",
    "list1 = [1,2,3,4, [44,55,66, True], False, (34,56,78,89,34), {1,2,3,3,2,1}, {1:34, \"key2\": [55, 67, 78, 89], 4: (45,\n",
    "22, 61, 34)}, [56, 'data science'], 'Machine Learning']\n",
    "Note: you must extract numeric keys and values of the dictionary also."
   ]
  },
  {
   "cell_type": "code",
   "execution_count": 6,
   "id": "07a70af6-cc85-46a4-acad-56d61f48c1fb",
   "metadata": {},
   "outputs": [
    {
     "name": "stdout",
     "output_type": "stream",
     "text": [
      "[1, 2, 3, 4, 44, 55, 66, 34, 56, 78, 89, 34, 1, 2, 3, 34, 55, 67, 78, 89, 45, 22, 61, 34, 56]\n",
      "1033677959746771369708460310528000\n"
     ]
    }
   ],
   "source": [
    "def flatten_and_product(lst):\n",
    "    flattened_list = []\n",
    "    for item in lst:\n",
    "        if isinstance(item,(bool)):\n",
    "            pass\n",
    "        elif isinstance(item, (int, float)):\n",
    "            flattened_list.append(item)\n",
    "        elif isinstance(item, (list, tuple, set)):\n",
    "            flattened_list.extend(flatten_and_product(item))\n",
    "        elif isinstance(item, dict):\n",
    "            flattened_list.extend(flatten_and_product(item.values()))\n",
    "    return flattened_list\n",
    "\n",
    "def product_of_numbers(lst):\n",
    "    flattened_list = flatten_and_product(lst)\n",
    "    product = 1\n",
    "    print(flattened_list)\n",
    "    for item in flattened_list:\n",
    "        if isinstance(item, (int, float)):\n",
    "            product *= item\n",
    "    return product\n",
    "\n",
    "list1 = [1,2,3,4, [44,55,66, True], False, (34,56,78,89,34), {1,2,3,3,2,1}, {1:34, \"key2\": [55, 67, 78, 89], 4: (45,22, 61, 34)}, [56, 'data science'], 'Machine Learning']\n",
    "# list1=[1,2,3]\n",
    "result = product_of_numbers(list1)\n",
    "print(result)\n"
   ]
  },
  {
   "cell_type": "markdown",
   "id": "9304656d-7b5a-457b-b2da-a5fc937d52c8",
   "metadata": {},
   "source": [
    "# Q2. Write a python program for encrypting a message sent to you by your friend. The logic of encryption should be such that, for a the output should be z. For b, the output should be y. For c, the output should be x respectively. Also, the whitespace should be replaced with a dollar sign. Keep the punctuation marks unchanged.\n",
    "## Input Sentence: I want to become a Data Scientist.\n",
    "Encrypt the above input sentence using the program you just created.\n",
    "Note: Convert the given input sentence into lowercase before encrypting. The final output should be\n",
    "lowercase."
   ]
  },
  {
   "cell_type": "code",
   "execution_count": 7,
   "id": "452864a7-a1a7-4dc5-a5fb-ecc69e2a83c0",
   "metadata": {},
   "outputs": [
    {
     "name": "stdout",
     "output_type": "stream",
     "text": [
      "r$dzmg$gl$yvxlnv$z$wzgz$hxrvmgrhg.\n"
     ]
    }
   ],
   "source": [
    "def encrypt_sentence(sentence):\n",
    "    encrypted_sentence = \"\"\n",
    "    for char in sentence.lower():\n",
    "        if char == \" \":\n",
    "            encrypted_sentence += \"$\"\n",
    "        elif char.isalpha():\n",
    "            encrypted_sentence += chr(122 - ord(char) + 97)\n",
    "        else:\n",
    "            encrypted_sentence += char\n",
    "    return encrypted_sentence\n",
    "\n",
    "sentence = \"I want to become a Data Scientist.\"\n",
    "encrypted_sentence = encrypt_sentence(sentence)\n",
    "print(encrypted_sentence)\n"
   ]
  },
  {
   "cell_type": "code",
   "execution_count": null,
   "id": "4379aad3-4a70-4c26-b875-0936246ac963",
   "metadata": {},
   "outputs": [],
   "source": []
  },
  {
   "cell_type": "code",
   "execution_count": null,
   "id": "582f13f9-89b5-47ee-a11b-73eb816c353a",
   "metadata": {},
   "outputs": [],
   "source": []
  }
 ],
 "metadata": {
  "kernelspec": {
   "display_name": "Python 3 (ipykernel)",
   "language": "python",
   "name": "python3"
  },
  "language_info": {
   "codemirror_mode": {
    "name": "ipython",
    "version": 3
   },
   "file_extension": ".py",
   "mimetype": "text/x-python",
   "name": "python",
   "nbconvert_exporter": "python",
   "pygments_lexer": "ipython3",
   "version": "3.10.8"
  }
 },
 "nbformat": 4,
 "nbformat_minor": 5
}
