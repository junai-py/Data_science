{
 "cells": [
  {
   "cell_type": "markdown",
   "id": "4cf59b14-a4c1-40a1-b0ce-48364e2af67f",
   "metadata": {},
   "source": [
    "# Q1. Which function is used to open a file? What are the different modes of opening a file? Explain each mode of file opening."
   ]
  },
  {
   "cell_type": "markdown",
   "id": "34d39fbb-a3a8-47d0-89b1-869d49d8bb33",
   "metadata": {},
   "source": [
    "In Python, the built-in function open() is used to open a file.\n",
    "\n",
    "The open() function takes two arguments - the file path, and the mode in which the file should be opened. The mode determines the operations that can be performed on the file.\n",
    "\n",
    "There are several modes in which a file can be opened in Python, which are as follows:\n",
    "\n",
    "r - Read Mode: This mode is used to read the contents of a file. If the file does not exist, an error is raised.\n",
    "\n",
    "w - Write Mode: This mode is used to write to a file. If the file does not exist, a new file is created. If the file already exists, it is truncated and the new content is written.\n",
    "\n",
    "a - Append Mode: This mode is used to append to a file. If the file does not exist, a new file is created. If the file already exists, the new content is appended to the end of the file.\n",
    "\n",
    "x - Exclusive Creation Mode: This mode is used to create a new file, but only if it does not already exist. If the file already exists, an error is raised.\n",
    "\n",
    "b - Binary Mode: This mode is used when working with binary files, such as images, audio files, etc.\n",
    "\n",
    "t - Text Mode: This mode is used when working with text files, such as .txt files.\n",
    "\n",
    "'+' - Read and Write Mode: This mode is used when both reading from and writing to a file."
   ]
  },
  {
   "cell_type": "markdown",
   "id": "ba32a4c2-5575-47c6-b2df-8c2d91a4a20c",
   "metadata": {},
   "source": [
    "# Q2. Why close() function is used? Why is it important to close a file?"
   ]
  },
  {
   "cell_type": "markdown",
   "id": "5d10ea0c-469c-4153-8b6b-1526bf6b68d8",
   "metadata": {},
   "source": [
    "In Python, the close() function is used to close a file after we are done working with it. It is important to close a file because it releases any system resources that were used to keep the file open, such as memory and file descriptors.\n",
    "\n",
    "When we open a file, the operating system allocates resources to keep the file open and accessible to the program. If we do not close the file after we are done working with it, these resources will remain allocated, even if the program terminates. This can lead to problems such as running out of memory, or being unable to access the file later on.\n",
    "\n",
    "In addition, when we write to a file, the changes are often stored in a buffer in memory, and are not actually written to the file until the buffer is flushed or the file is closed. If we do not close the file, the changes may not be written to the file, resulting in incomplete or corrupted data."
   ]
  },
  {
   "cell_type": "markdown",
   "id": "43929b97-12de-435a-8ca1-7f451b001427",
   "metadata": {},
   "source": [
    "# Q3. Write a python program to create a text file. Write ‘I want to become a Data Scientist’ in that file. Then close the file. Open this file and read the content of the file."
   ]
  },
  {
   "cell_type": "code",
   "execution_count": 1,
   "id": "f5ebf06d-f416-44bc-b0b6-a055ca81d23f",
   "metadata": {},
   "outputs": [
    {
     "name": "stdout",
     "output_type": "stream",
     "text": [
      "I want to become a Data Scientist\n"
     ]
    }
   ],
   "source": [
    "# create the file and write to it\n",
    "with open(\"data_scientist.txt\", \"w\") as file:\n",
    "    file.write(\"I want to become a Data Scientist\")\n",
    "\n",
    "# open the file and read its contents\n",
    "with open(\"data_scientist.txt\", \"r\") as file:\n",
    "    contents = file.read()\n",
    "\n",
    "# print the contents of the file\n",
    "print(contents)"
   ]
  },
  {
   "cell_type": "markdown",
   "id": "73ff25e5-c58b-42c2-b5b4-687436f35f49",
   "metadata": {},
   "source": [
    "# Q4. Explain the following with python code: read(), readline() and readlines()."
   ]
  },
  {
   "cell_type": "markdown",
   "id": "65f2b03f-dbdd-4178-a0db-b483ae25345f",
   "metadata": {},
   "source": [
    " The read() method reads the entire content of a file as a single string. This method takes an optional argument that specifies the number of bytes to read. If no argument is provided, it will read the entire file."
   ]
  },
  {
   "cell_type": "code",
   "execution_count": 3,
   "id": "1fc4349a-5391-4492-be04-54aecd12bf16",
   "metadata": {},
   "outputs": [
    {
     "name": "stdout",
     "output_type": "stream",
     "text": [
      "I want to become a Data Scientist\n"
     ]
    }
   ],
   "source": [
    "with open('data_scientist.txt', 'r') as file:\n",
    "    content = file.read()\n",
    "    print(content)\n"
   ]
  },
  {
   "cell_type": "markdown",
   "id": "67082723-f5c7-40d3-9407-4a6b88fde27b",
   "metadata": {},
   "source": [
    "The readline() method reads a single line from a file. It reads up to and including the first occurrence of the newline character (\\n), and returns the line as a string."
   ]
  },
  {
   "cell_type": "code",
   "execution_count": 5,
   "id": "1836beb2-7f00-432b-b07e-3986347099ad",
   "metadata": {},
   "outputs": [
    {
     "name": "stdout",
     "output_type": "stream",
     "text": [
      "I want to become a Data Scientist\n"
     ]
    }
   ],
   "source": [
    "with open('data_scientist.txt', 'r') as file:\n",
    "    line = file.readline()\n",
    "    print(line)\n"
   ]
  },
  {
   "cell_type": "markdown",
   "id": "c1ae0ead-2b4a-4e9a-9911-9deb7214a8a5",
   "metadata": {},
   "source": [
    "The readlines() method reads all the lines of a file and returns them as a list of strings, where each string represents a single line."
   ]
  },
  {
   "cell_type": "code",
   "execution_count": 7,
   "id": "fecdaf98-afc5-4bb8-abfb-657299cda56a",
   "metadata": {},
   "outputs": [
    {
     "name": "stdout",
     "output_type": "stream",
     "text": [
      "['I want to become a Data Scientist']\n"
     ]
    }
   ],
   "source": [
    "with open('data_scientist.txt', 'r') as file:\n",
    "    lines = file.readlines()\n",
    "    print(lines)\n"
   ]
  },
  {
   "cell_type": "markdown",
   "id": "60496420-c04d-4094-86be-a2dfde988c29",
   "metadata": {},
   "source": [
    "# Q5. Explain why with statement is used with open(). What is the advantage of using with statement and open() together?"
   ]
  },
  {
   "cell_type": "markdown",
   "id": "91035bec-69c9-4cb9-aa89-b9b09c4b20d1",
   "metadata": {},
   "source": [
    "Using the with statement with open() provides a more concise and safer way to handle file I/O operations, as it helps to avoid common mistakes such as forgetting to close the file or leaving the file open when an error occurs. In addition, it can help to simplify error handling by automatically closing the file and cleaning up resources when an error occurs"
   ]
  },
  {
   "cell_type": "markdown",
   "id": "fd24b902-bb20-4ff2-88b4-227346500cb5",
   "metadata": {},
   "source": [
    "# Q6. Explain the write() and writelines() functions. Give a suitable example."
   ]
  },
  {
   "cell_type": "markdown",
   "id": "27810daf-15c8-4a83-8927-2246dcfe79e6",
   "metadata": {},
   "source": [
    "The write() function is used to write a single string to a file. It takes a string argument as input and writes it to the file. If the file already exists, it will overwrite the existing content. If the file does not exist, it will be created."
   ]
  },
  {
   "cell_type": "code",
   "execution_count": 8,
   "id": "fd7a1351-18d4-47f2-b46b-a760171ab24e",
   "metadata": {},
   "outputs": [],
   "source": [
    "with open('file.txt', 'w') as file:\n",
    "    file.write('This is a test\\n')\n",
    "    file.write('This is another test\\n')\n"
   ]
  },
  {
   "cell_type": "markdown",
   "id": "7decc008-5e4f-4439-9db5-19f7ab0cc008",
   "metadata": {},
   "source": [
    "The writelines() function is used to write multiple strings to a file. It takes a list of strings as input and writes each string to the file. If the file already exists, it will overwrite the existing content. If the file does not exist, it will be created."
   ]
  },
  {
   "cell_type": "code",
   "execution_count": 9,
   "id": "a71c2aed-7e99-447e-9624-9776d0465031",
   "metadata": {},
   "outputs": [],
   "source": [
    "with open('file.txt', 'w') as file:\n",
    "    lines = ['This is a test\\n', 'This is another test\\n']\n",
    "    file.writelines(lines)\n"
   ]
  },
  {
   "cell_type": "code",
   "execution_count": null,
   "id": "02597565-e496-431c-8770-08225b928481",
   "metadata": {},
   "outputs": [],
   "source": []
  }
 ],
 "metadata": {
  "kernelspec": {
   "display_name": "Python 3 (ipykernel)",
   "language": "python",
   "name": "python3"
  },
  "language_info": {
   "codemirror_mode": {
    "name": "ipython",
    "version": 3
   },
   "file_extension": ".py",
   "mimetype": "text/x-python",
   "name": "python",
   "nbconvert_exporter": "python",
   "pygments_lexer": "ipython3",
   "version": "3.10.8"
  }
 },
 "nbformat": 4,
 "nbformat_minor": 5
}
