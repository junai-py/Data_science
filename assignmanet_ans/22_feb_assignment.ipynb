{
 "cells": [
  {
   "cell_type": "markdown",
   "id": "7a48e183-7ef5-4915-ad7a-601bea30df64",
   "metadata": {},
   "source": [
    "# Q1. Create a Pandas Series that contains the following data: 4, 8, 15, 16, 23, and 42. Then, print the series."
   ]
  },
  {
   "cell_type": "code",
   "execution_count": 1,
   "id": "dd0b5cb8-1ad3-4950-be59-e9e64c73d377",
   "metadata": {},
   "outputs": [],
   "source": [
    "import pandas as pd\n"
   ]
  },
  {
   "cell_type": "code",
   "execution_count": 7,
   "id": "65e302c2-d57b-4cf8-a4cf-ab6abb9256e3",
   "metadata": {},
   "outputs": [
    {
     "name": "stdout",
     "output_type": "stream",
     "text": [
      "0     4\n",
      "1     8\n",
      "2    15\n",
      "3    16\n",
      "4    23\n",
      "5    42\n",
      "dtype: int64\n"
     ]
    }
   ],
   "source": [
    "data = [4, 8, 15, 16, 23, 42]\n",
    "series = pd.Series(data)\n",
    "print(series)"
   ]
  },
  {
   "cell_type": "markdown",
   "id": "e618ed0e-8a93-4522-baa8-50a988b5d269",
   "metadata": {},
   "source": [
    "# Q2. Create a variable of list type containing 10 elements in it, and apply pandas.Series function on the variable print it."
   ]
  },
  {
   "cell_type": "code",
   "execution_count": 8,
   "id": "eb0d9e71-31a4-4658-b628-6447047d23aa",
   "metadata": {},
   "outputs": [],
   "source": [
    "data=[1,2,3,4,5,6,7,8,9,0]\n",
    "series = pd.Series(data)"
   ]
  },
  {
   "cell_type": "code",
   "execution_count": 9,
   "id": "8713ed16-a8c4-4c1f-bc2f-1b27428276c3",
   "metadata": {},
   "outputs": [
    {
     "data": {
      "text/plain": [
       "0    1\n",
       "1    2\n",
       "2    3\n",
       "3    4\n",
       "4    5\n",
       "5    6\n",
       "6    7\n",
       "7    8\n",
       "8    9\n",
       "9    0\n",
       "dtype: int64"
      ]
     },
     "execution_count": 9,
     "metadata": {},
     "output_type": "execute_result"
    }
   ],
   "source": [
    "series"
   ]
  },
  {
   "cell_type": "markdown",
   "id": "ebc85112-2e7d-41d4-adbd-0b87d45420c8",
   "metadata": {},
   "source": [
    "# Create a Pandas DataFrame that contains the following data:"
   ]
  },
  {
   "cell_type": "code",
   "execution_count": 15,
   "id": "530a4eaa-72e5-45d7-8559-d93506c738a5",
   "metadata": {},
   "outputs": [],
   "source": [
    "data={\"name\":[\"alice\",\"john\",\"arun\"],\"age\":[23,24,26],\"gender\":[\"M\",\"M\",\"M\"]}"
   ]
  },
  {
   "cell_type": "code",
   "execution_count": 16,
   "id": "8b973fb2-e9c5-4c7c-9e1f-04725c507c19",
   "metadata": {},
   "outputs": [
    {
     "data": {
      "text/html": [
       "<div>\n",
       "<style scoped>\n",
       "    .dataframe tbody tr th:only-of-type {\n",
       "        vertical-align: middle;\n",
       "    }\n",
       "\n",
       "    .dataframe tbody tr th {\n",
       "        vertical-align: top;\n",
       "    }\n",
       "\n",
       "    .dataframe thead th {\n",
       "        text-align: right;\n",
       "    }\n",
       "</style>\n",
       "<table border=\"1\" class=\"dataframe\">\n",
       "  <thead>\n",
       "    <tr style=\"text-align: right;\">\n",
       "      <th></th>\n",
       "      <th>name</th>\n",
       "      <th>age</th>\n",
       "      <th>gender</th>\n",
       "    </tr>\n",
       "  </thead>\n",
       "  <tbody>\n",
       "    <tr>\n",
       "      <th>0</th>\n",
       "      <td>alice</td>\n",
       "      <td>23</td>\n",
       "      <td>M</td>\n",
       "    </tr>\n",
       "    <tr>\n",
       "      <th>1</th>\n",
       "      <td>john</td>\n",
       "      <td>24</td>\n",
       "      <td>M</td>\n",
       "    </tr>\n",
       "    <tr>\n",
       "      <th>2</th>\n",
       "      <td>arun</td>\n",
       "      <td>26</td>\n",
       "      <td>M</td>\n",
       "    </tr>\n",
       "  </tbody>\n",
       "</table>\n",
       "</div>"
      ],
      "text/plain": [
       "    name  age gender\n",
       "0  alice   23      M\n",
       "1   john   24      M\n",
       "2   arun   26      M"
      ]
     },
     "execution_count": 16,
     "metadata": {},
     "output_type": "execute_result"
    }
   ],
   "source": [
    "pd.DataFrame(data)"
   ]
  },
  {
   "cell_type": "markdown",
   "id": "b1a75943-cc88-4209-a7db-4fdcb3c5f2d2",
   "metadata": {},
   "source": [
    "# Q4. What is ‘DataFrame’ in pandas and how is it different from pandas.series? Explain with an example."
   ]
  },
  {
   "cell_type": "markdown",
   "id": "21ce3b53-2fec-4b23-8467-72e2b4ada901",
   "metadata": {},
   "source": [
    " DataFrame represents a complete dataset, a Pandas Series is a one-dimensional array-like object that can store data of a single data type. It is similar to a column in a spreadsheet or a single column of a DataFrame."
   ]
  },
  {
   "cell_type": "code",
   "execution_count": 17,
   "id": "8c4946d6-c20e-469e-991a-f1fa3ef6cf74",
   "metadata": {},
   "outputs": [
    {
     "name": "stdout",
     "output_type": "stream",
     "text": [
      "      Name  Age  Grade\n",
      "0    Alice   21     85\n",
      "1      Bob   19     92\n",
      "2  Charlie   20     78\n"
     ]
    }
   ],
   "source": [
    "data = {\n",
    "    'Name': ['Alice', 'Bob', 'Charlie'],\n",
    "    'Age': [21, 19, 20],\n",
    "    'Grade': [85, 92, 78]\n",
    "}\n",
    "\n",
    "df = pd.DataFrame(data)\n",
    "print(df)"
   ]
  },
  {
   "cell_type": "code",
   "execution_count": 18,
   "id": "0ca67cde-8985-4a32-bf26-988e2adb7a66",
   "metadata": {},
   "outputs": [
    {
     "name": "stdout",
     "output_type": "stream",
     "text": [
      "0    85\n",
      "1    92\n",
      "2    78\n",
      "Name: Grade, dtype: int64\n"
     ]
    }
   ],
   "source": [
    "grade_series = df['Grade']\n",
    "print(grade_series)"
   ]
  },
  {
   "cell_type": "markdown",
   "id": "1e1eaa29-f82a-4100-8ed4-3e3ad564e8b4",
   "metadata": {},
   "source": [
    "# Q5. What are some common functions you can use to manipulate data in a Pandas DataFrame? Can you give an example of when you might use one of these functions?"
   ]
  },
  {
   "cell_type": "markdown",
   "id": "95deaa63-5896-41f0-9851-69f19ca42253",
   "metadata": {},
   "source": [
    "head() and tail(): These functions allow you to retrieve the first or last n rows of a DataFrame, respectively."
   ]
  },
  {
   "cell_type": "markdown",
   "id": "e4eb7331-91e0-4e0d-824c-11cf5fcaf277",
   "metadata": {},
   "source": [
    "info(): This function provides a summary of the DataFrame, including the column names, data types, and memory usage."
   ]
  },
  {
   "cell_type": "code",
   "execution_count": null,
   "id": "8f126346-74a7-4bab-8f2d-a26a7a5a7591",
   "metadata": {},
   "outputs": [],
   "source": []
  }
 ],
 "metadata": {
  "kernelspec": {
   "display_name": "Python 3 (ipykernel)",
   "language": "python",
   "name": "python3"
  },
  "language_info": {
   "codemirror_mode": {
    "name": "ipython",
    "version": 3
   },
   "file_extension": ".py",
   "mimetype": "text/x-python",
   "name": "python",
   "nbconvert_exporter": "python",
   "pygments_lexer": "ipython3",
   "version": "3.10.8"
  }
 },
 "nbformat": 4,
 "nbformat_minor": 5
}
