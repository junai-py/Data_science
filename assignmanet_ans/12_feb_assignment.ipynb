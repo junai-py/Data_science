{
 "cells": [
  {
   "cell_type": "markdown",
   "id": "f33ae6c1-534d-4fdd-bc11-f3bfc609d2f9",
   "metadata": {},
   "source": [
    "# Q1. What is an Exception in python? Write the difference,between Exceptions and syntax errors"
   ]
  },
  {
   "cell_type": "markdown",
   "id": "91470bb0-0340-49c3-87ba-0cbe1da9efe2",
   "metadata": {},
   "source": [
    "In Python, an exception is an error that occurs during the execution of a program. When an exception occurs, Python raises an exception object and stops the normal execution of the program.\n",
    "\n",
    "Syntax errors, on the other hand, occur when you violate the rules of the Python language. For example, if you forget to close a parenthesis or misspell a keyword, Python will raise a syntax error."
   ]
  },
  {
   "cell_type": "markdown",
   "id": "86ecd3bf-8d6c-4df6-85b4-f22a37d75ec8",
   "metadata": {},
   "source": [
    "# Q2. What happens when an exception is not handled? Explain with an example"
   ]
  },
  {
   "cell_type": "markdown",
   "id": "08fb6cc5-4069-4710-a827-23630e6f629c",
   "metadata": {},
   "source": [
    "When an exception is not handled in Python, it will result in the program terminating and an error message being displayed. This error message will indicate the type of exception that occurred, as well as the line number where the exception occurred."
   ]
  },
  {
   "cell_type": "code",
   "execution_count": null,
   "id": "451b6510-da16-495e-93c1-6f6edd12ae21",
   "metadata": {},
   "outputs": [],
   "source": [
    "try:\n",
    "    x = 1 / 0\n",
    "except ValueError:\n",
    "    print(\"This code will never execute\")"
   ]
  },
  {
   "cell_type": "markdown",
   "id": "247934d5-c68c-4f38-8c01-48b3c8dc1c4b",
   "metadata": {},
   "source": [
    "In this example, we are trying to divide the number 1 by 0, which is an invalid operation and will raise a ZeroDivisionError exception. However, the except block is designed to handle a ValueError exception, not a ZeroDivisionError exception. Therefore, when the exception occurs, it is not handled and the program terminates"
   ]
  },
  {
   "cell_type": "markdown",
   "id": "f4a43df0-6ce5-4a1e-8646-8c1d7a219dc8",
   "metadata": {},
   "source": [
    "# Q3. Which Python statements are used to catch and handle exceptions? Explin with an exmple"
   ]
  },
  {
   "cell_type": "markdown",
   "id": "895bd061-d3f1-4168-aa8f-0c8a4ea3e36d",
   "metadata": {},
   "source": [
    "In Python, the try and except statements are used to catch and handle exceptions.\n",
    "the try block contains the code that may raise an exception. If an exception occurs, the program will jump to the except block, which contains code to handle the exception. The ExceptionType parameter specifies the type of exception that the except block is designed to handle. You can have multiple except blocks to handle different types of exceptions."
   ]
  },
  {
   "cell_type": "code",
   "execution_count": 4,
   "id": "7ecdb3c5-fd7f-41fc-a4aa-ffc7ee128485",
   "metadata": {},
   "outputs": [
    {
     "name": "stdin",
     "output_type": "stream",
     "text": [
      "Please enter a number:  qw\n"
     ]
    },
    {
     "name": "stdout",
     "output_type": "stream",
     "text": [
      "Oops! That was not a valid number. Try again...\n"
     ]
    },
    {
     "name": "stdin",
     "output_type": "stream",
     "text": [
      "Please enter a number:  10\n"
     ]
    }
   ],
   "source": [
    "while True:\n",
    "    try:\n",
    "        x = int(input(\"Please enter a number: \"))\n",
    "        break\n",
    "    except ValueError:\n",
    "        print(\"Oops! That was not a valid number. Try again...\")\n"
   ]
  },
  {
   "cell_type": "markdown",
   "id": "369e505b-06ea-4109-bd87-96007e2d8b9a",
   "metadata": {},
   "source": [
    "# Q4. Explin with an exmple:try and else,finally,rise"
   ]
  },
  {
   "cell_type": "markdown",
   "id": "4c9a77a8-707d-4299-9be4-b7090dbaad6b",
   "metadata": {},
   "source": [
    "the try statement can be extended with three additional clauses: else, finally, and raise. Here's a brief explanation of each:\n",
    "\n",
    "else: The else clause is executed if the code in the try block does not raise an exception. It is typically used to handle code that should only run if no exception occurred"
   ]
  },
  {
   "cell_type": "code",
   "execution_count": null,
   "id": "50247eff-7a64-40ee-8232-a665f4b3ea52",
   "metadata": {},
   "outputs": [],
   "source": [
    "try:\n",
    "    x = int(input(\"Enter a number: \"))\n",
    "except ValueError:\n",
    "    print(\"Invalid input\")\n",
    "else:\n",
    "    print(\"You entered:\", x)"
   ]
  },
  {
   "cell_type": "markdown",
   "id": "70b17ddf-1b3d-4ea2-acf5-955a625d5be6",
   "metadata": {},
   "source": [
    "finally: The finally clause is always executed, regardless of whether an exception occurred or not. It is typically used to handle cleanup code that should be executed regardless of the outcome of the try block."
   ]
  },
  {
   "cell_type": "code",
   "execution_count": null,
   "id": "c4c5a182-8005-4a44-9bde-a9fc4c15bc89",
   "metadata": {},
   "outputs": [],
   "source": [
    "try:\n",
    "    f = open(\"myfile.txt\", \"r\")\n",
    "    # some code that reads from the file\n",
    "finally:\n",
    "    f.close()\n"
   ]
  },
  {
   "cell_type": "markdown",
   "id": "f0c99e08-976e-46f4-b1ec-1051a9ab987b",
   "metadata": {},
   "source": [
    "raise: The raise statement is used to raise an exception manually. It can be used in the try block to signal an error that cannot be handled by the except block"
   ]
  },
  {
   "cell_type": "code",
   "execution_count": null,
   "id": "c6cfb080-b0b1-405b-a744-68f42d7da5a4",
   "metadata": {},
   "outputs": [],
   "source": [
    "try:\n",
    "    x = int(input(\"Enter a positive number: \"))\n",
    "    if x <= 0:\n",
    "        raise ValueError(\"Number must be positive\")\n",
    "except ValueError as e:\n",
    "    print(e)\n"
   ]
  },
  {
   "cell_type": "markdown",
   "id": "2bd20f3a-d092-4667-84ae-1e15db67303d",
   "metadata": {},
   "source": [
    "# Q5. What are Custom Exceptions in python? Why do we need Custom Exceptions? Explain with an example"
   ]
  },
  {
   "cell_type": "markdown",
   "id": "f549eb8d-5b37-44f1-b816-4238c1d7d114",
   "metadata": {},
   "source": [
    "In Python, custom exceptions are user-defined exceptions that can be used to represent errors or exceptional conditions that are specific to a particular program or module. Custom exceptions are created by defining a new class that inherits from the built-in Exception class or one of its subclasses.\n",
    "\n",
    "Custom exceptions are useful for a variety of reasons:\n",
    "\n",
    "They allow you to define error conditions that are specific to your program or module, making it easier to understand and debug your code.\n",
    "\n",
    "They can provide more detailed information about an error than built-in exceptions, such as additional attributes or methods.\n",
    "\n",
    "They allow you to handle different types of exceptions in different ways, making your code more flexible and robust."
   ]
  },
  {
   "cell_type": "code",
   "execution_count": 7,
   "id": "8f2a4d33-1b0e-44dc-9ac6-846355ac1b46",
   "metadata": {},
   "outputs": [
    {
     "name": "stdout",
     "output_type": "stream",
     "text": [
      "2.0\n",
      "Error: Number -4 is negative\n"
     ]
    }
   ],
   "source": [
    "class NegativeNumberError(Exception):\n",
    "    def __init__(self, number):\n",
    "        self.number = number\n",
    "        self.message = f\"Number {number} is negative\"\n",
    "\n",
    "    def __str__(self):\n",
    "        return self.message\n",
    "\n",
    "def square_root(x):\n",
    "    if x < 0:\n",
    "        raise NegativeNumberError(x)\n",
    "    else:\n",
    "        return x ** 0.5\n",
    "\n",
    "try:\n",
    "    print(square_root(4))\n",
    "    print(square_root(-4))\n",
    "except NegativeNumberError as e:\n",
    "    print(f\"Error: {e}\")\n"
   ]
  },
  {
   "cell_type": "markdown",
   "id": "bc795c4a-b6bf-4176-b37a-7229b127a84d",
   "metadata": {},
   "source": [
    "# Q6. Create custom exception class. Use this class to handle an exception."
   ]
  },
  {
   "cell_type": "code",
   "execution_count": 8,
   "id": "ea9ba889-0156-4357-bb06-1896569cfc9a",
   "metadata": {},
   "outputs": [
    {
     "name": "stdout",
     "output_type": "stream",
     "text": [
      "4\n",
      "Error: Input must be non-negative\n"
     ]
    }
   ],
   "source": [
    "class InvalidInputError(Exception):\n",
    "    pass\n",
    "\n",
    "def square(x):\n",
    "    if x < 0:\n",
    "        raise InvalidInputError(\"Input must be non-negative\")\n",
    "    else:\n",
    "        return x ** 2\n",
    "\n",
    "try:\n",
    "    print(square(2))\n",
    "    print(square(-2))\n",
    "except InvalidInputError as e:\n",
    "    print(f\"Error: {e}\")\n"
   ]
  },
  {
   "cell_type": "code",
   "execution_count": null,
   "id": "596280ef-4a1d-4834-a91f-e4ca59113415",
   "metadata": {},
   "outputs": [],
   "source": []
  }
 ],
 "metadata": {
  "kernelspec": {
   "display_name": "Python 3 (ipykernel)",
   "language": "python",
   "name": "python3"
  },
  "language_info": {
   "codemirror_mode": {
    "name": "ipython",
    "version": 3
   },
   "file_extension": ".py",
   "mimetype": "text/x-python",
   "name": "python",
   "nbconvert_exporter": "python",
   "pygments_lexer": "ipython3",
   "version": "3.10.8"
  }
 },
 "nbformat": 4,
 "nbformat_minor": 5
}
