{
 "cells": [
  {
   "cell_type": "markdown",
   "id": "1bc0612a-d7e1-433c-bd05-ced5ae544c5a",
   "metadata": {},
   "source": [
    "1) Guido van Rossum"
   ]
  },
  {
   "cell_type": "markdown",
   "id": "71b9c9be-d66b-4834-96ee-e9e7c9e675a6",
   "metadata": {},
   "source": [
    "2) python supports both Object-oriented programming and structured programming "
   ]
  },
  {
   "cell_type": "markdown",
   "id": "b225a80a-030b-478a-9086-e0bf6b335e8e",
   "metadata": {},
   "source": [
    "3) Yes, Python is a case-sensitive language"
   ]
  },
  {
   "cell_type": "markdown",
   "id": "4d45b65d-62d4-4e42-b969-d19d8ad0ad9b",
   "metadata": {},
   "source": [
    "4) file_name.py"
   ]
  },
  {
   "cell_type": "markdown",
   "id": "a438efc2-5816-4e18-94aa-5454f24681f1",
   "metadata": {},
   "source": [
    "5) Python is an interpreted language"
   ]
  },
  {
   "cell_type": "markdown",
   "id": "650242f7-5cd9-4235-8288-b406bab5eee5",
   "metadata": {},
   "source": [
    "6) module, function body and class definition"
   ]
  },
  {
   "cell_type": "markdown",
   "id": "d815e9e2-4f9e-4a71-a960-8d4a22906d8d",
   "metadata": {},
   "source": [
    "7) with '#' we can do single line comment "
   ]
  },
  {
   "cell_type": "markdown",
   "id": "7a899be9-5f53-4308-a59a-2c1acbb3643c",
   "metadata": {},
   "source": [
    "8) python_version()"
   ]
  },
  {
   "cell_type": "markdown",
   "id": "c8d12196-fec8-4044-8697-6df5808fde02",
   "metadata": {},
   "source": [
    "9) Python supports the creation of anonymous functions  at runtime, using a construct called lambda"
   ]
  },
  {
   "cell_type": "markdown",
   "id": "1080669e-f2a7-4089-8446-b96e4ef8339d",
   "metadata": {},
   "source": [
    "10) pip - preferred installer program"
   ]
  },
  {
   "cell_type": "markdown",
   "id": "86a9e1ac-c39e-4362-803e-fcdc1f5518c7",
   "metadata": {},
   "source": [
    "11) print( ) \n",
    "type( ) \n",
    "input( )\n",
    "len( )"
   ]
  },
  {
   "cell_type": "markdown",
   "id": "7a290439-1030-41ec-ae65-4caff67285ff",
   "metadata": {},
   "source": [
    "12)  An identifier can have a maximum length of 79 characters in Python"
   ]
  },
  {
   "cell_type": "markdown",
   "id": "efb9eaff-233c-4982-9460-cbe2328a2ff2",
   "metadata": {},
   "source": [
    "13) Over 125,000 third-party Python libraries exist that enable you to use Python for machine learning, web processing, and even biology"
   ]
  },
  {
   "cell_type": "markdown",
   "id": "c1d308b7-0ae9-4bbe-a2a7-5f00a2bbe008",
   "metadata": {},
   "source": [
    "14) Memory management in Python involves a private heap containing all Python objects and data structures. The management of this private heap is ensured internally by the Python memory manager."
   ]
  },
  {
   "cell_type": "code",
   "execution_count": null,
   "id": "21d87712-ab6c-44c9-bfa7-622336469c02",
   "metadata": {},
   "outputs": [],
   "source": [
    "15)  "
   ]
  }
 ],
 "metadata": {
  "kernelspec": {
   "display_name": "Python 3 (ipykernel)",
   "language": "python",
   "name": "python3"
  },
  "language_info": {
   "codemirror_mode": {
    "name": "ipython",
    "version": 3
   },
   "file_extension": ".py",
   "mimetype": "text/x-python",
   "name": "python",
   "nbconvert_exporter": "python",
   "pygments_lexer": "ipython3",
   "version": "3.10.8"
  }
 },
 "nbformat": 4,
 "nbformat_minor": 5
}
