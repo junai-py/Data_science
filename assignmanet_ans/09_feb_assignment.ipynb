{
 "cells": [
  {
   "cell_type": "markdown",
   "id": "fdbe9825-dde7-4062-9cff-602aade199ec",
   "metadata": {},
   "source": [
    "# Q1, Create a vehicle class with an init method having instance variables as name_of_vehicle, max_speed and average_of_vehicle."
   ]
  },
  {
   "cell_type": "code",
   "execution_count": 1,
   "id": "4ef30784-d702-46f6-b3aa-883b89c4fd8b",
   "metadata": {},
   "outputs": [],
   "source": [
    "class Vehicle:\n",
    "    def __init__(self, name_of_vehicle, max_speed, average_of_vehicle):\n",
    "        self.name_of_vehicle = name_of_vehicle\n",
    "        self.max_speed = max_speed\n",
    "        self.average_of_vehicle = average_of_vehicle"
   ]
  },
  {
   "cell_type": "code",
   "execution_count": 2,
   "id": "8a9f3008-73e8-41a3-8ca4-35969caece5d",
   "metadata": {
    "tags": []
   },
   "outputs": [
    {
     "name": "stdout",
     "output_type": "stream",
     "text": [
      "Name of vehicle: Car\n",
      "Max speed: 180\n",
      "Average of vehicle: 15\n"
     ]
    }
   ],
   "source": [
    "car = Vehicle(\"Car\", 180, 15)\n",
    "print(\"Name of vehicle:\", car.name_of_vehicle)\n",
    "print(\"Max speed:\", car.max_speed)\n",
    "print(\"Average of vehicle:\", car.average_of_vehicle)"
   ]
  },
  {
   "cell_type": "markdown",
   "id": "d34ad767-bae3-4a70-aa85-7496a45c53cd",
   "metadata": {},
   "source": [
    "# Q2. Create a child class car from the vehicle class created in Que 1, which will inherit the vehicle class. Create a method named seating_capacity which takes capacity as an argument and returns the name of the vehicle and its seating capacity."
   ]
  },
  {
   "cell_type": "code",
   "execution_count": 3,
   "id": "92212bfa-2a7f-4070-a43f-cd60deeccbbf",
   "metadata": {},
   "outputs": [],
   "source": [
    "class Car(Vehicle):\n",
    "    def seating_capacity(self, capacity):\n",
    "        return \"Name of vehicle: \" + self.name_of_vehicle + \", Seating capacity: \" + str(capacity)\n"
   ]
  },
  {
   "cell_type": "code",
   "execution_count": 4,
   "id": "2e48af52-9376-4833-98f1-a1940294bbb8",
   "metadata": {},
   "outputs": [
    {
     "name": "stdout",
     "output_type": "stream",
     "text": [
      "Name of vehicle: Sedan, Seating capacity: 5\n"
     ]
    }
   ],
   "source": [
    "my_car = Car(\"Sedan\", 220, 10)\n",
    "print(my_car.seating_capacity(5))"
   ]
  },
  {
   "cell_type": "markdown",
   "id": "f013dc23-0566-434a-a444-21bab110c7ca",
   "metadata": {},
   "source": [
    "# Q3. What is multiple inheritance? Write a python code to demonstrate multiple inheritance."
   ]
  },
  {
   "cell_type": "markdown",
   "id": "cd01418e-0cbf-4b4e-b63e-77e5e57e98bf",
   "metadata": {},
   "source": [
    "Multiple inheritance is a feature in object-oriented programming that allows a class to inherit properties and behaviors from multiple parent classes. In other words, a class can inherit from more than one parent class"
   ]
  },
  {
   "cell_type": "code",
   "execution_count": 5,
   "id": "32cc5698-c1e4-4f9e-b0a2-90c6bdf536e2",
   "metadata": {},
   "outputs": [],
   "source": [
    "class Engine:\n",
    "    def start(self):\n",
    "        return \"Engine started\"\n",
    "    \n",
    "    def stop(self):\n",
    "        return \"Engine stopped\"\n",
    "\n",
    "class MusicPlayer:\n",
    "    def play_music(self):\n",
    "        return \"Music playing\"\n",
    "    \n",
    "    def stop_music(self):\n",
    "        return \"Music stopped\"\n",
    "\n",
    "class Car(Engine, MusicPlayer):\n",
    "    pass\n"
   ]
  },
  {
   "cell_type": "code",
   "execution_count": 6,
   "id": "01f1e850-4770-4d43-bbb6-7bede063ffb7",
   "metadata": {},
   "outputs": [
    {
     "name": "stdout",
     "output_type": "stream",
     "text": [
      "Engine started\n",
      "Music playing\n",
      "Music stopped\n",
      "Engine stopped\n"
     ]
    }
   ],
   "source": [
    "my_car = Car()\n",
    "print(my_car.start())\n",
    "print(my_car.play_music())\n",
    "print(my_car.stop_music())\n",
    "print(my_car.stop())\n"
   ]
  },
  {
   "cell_type": "markdown",
   "id": "558ea0df-6d29-4bd4-ab7c-c4186c928e92",
   "metadata": {},
   "source": [
    "# Q4. What are getter and setter in python? Create a class and create a getter and a setter method in this class."
   ]
  },
  {
   "cell_type": "markdown",
   "id": "df6d886e-9dd7-4b65-8a66-4d54d31117f6",
   "metadata": {},
   "source": [
    "Getters and setters are methods in object-oriented programming that allow you to control access to the attributes of a class. A getter is a method that retrieves the value of an attribute, while a setter is a method that sets the value of an attribute."
   ]
  },
  {
   "cell_type": "code",
   "execution_count": 7,
   "id": "800c2f30-e191-451b-9e3d-192420a9fe99",
   "metadata": {},
   "outputs": [],
   "source": [
    "class Person:\n",
    "    def __init__(self, name):\n",
    "        self._name = name\n",
    "    \n",
    "    def get_name(self):\n",
    "        return self._name\n",
    "    \n",
    "    def set_name(self, name):\n",
    "        self._name = name\n",
    "        \n",
    "    # name = property(get_name, set_name)\n"
   ]
  },
  {
   "cell_type": "code",
   "execution_count": 13,
   "id": "6ba5eafb-a576-406e-8ade-3c729297aa37",
   "metadata": {},
   "outputs": [
    {
     "name": "stdout",
     "output_type": "stream",
     "text": [
      "John Doe\n",
      "DOE\n"
     ]
    }
   ],
   "source": [
    "person = Person(\"John Doe\")\n",
    "print(person.get_name())\n",
    "person.set_name(\"DOE\")\n",
    "print(person.get_name())\n",
    "\n"
   ]
  },
  {
   "cell_type": "markdown",
   "id": "ccb82b55-b2d9-4cc0-8614-57021e91f01e",
   "metadata": {},
   "source": [
    "# Q5.What is method overriding in python? Write a python code to demonstrate method overriding."
   ]
  },
  {
   "cell_type": "markdown",
   "id": "d99b61ea-75ff-4ce7-a08d-c0022351e192",
   "metadata": {},
   "source": [
    "Method overriding is a feature in object-oriented programming where a child class can provide its own implementation for a method that is already defined in its parent class. This allows you to modify the behavior of a method in a child class while still inheriting the behavior of the method in the parent class."
   ]
  },
  {
   "cell_type": "code",
   "execution_count": 14,
   "id": "1b9c3052-822c-4b2f-86b7-656924d1dac6",
   "metadata": {},
   "outputs": [],
   "source": [
    "class Shape:\n",
    "    def area(self):\n",
    "        return 0\n",
    "\n",
    "class Rectangle(Shape):\n",
    "    def __init__(self, width, height):\n",
    "        self.width = width\n",
    "        self.height = height\n",
    "        \n",
    "    def area(self):\n",
    "        return self.width * self.height\n",
    "\n",
    "class Circle(Shape):\n",
    "    def __init__(self, radius):\n",
    "        self.radius = radius\n",
    "        \n",
    "    def area(self):\n",
    "        return 3.14 * self.radius * self.radius\n"
   ]
  },
  {
   "cell_type": "code",
   "execution_count": 15,
   "id": "b6c02937-df19-4217-a3ca-adecec50a6a5",
   "metadata": {},
   "outputs": [
    {
     "name": "stdout",
     "output_type": "stream",
     "text": [
      "Rectangle's area: 200\n",
      "Circle's area: 78.5\n"
     ]
    }
   ],
   "source": [
    "rect = Rectangle(10, 20)\n",
    "print(\"Rectangle's area:\", rect.area())\n",
    "\n",
    "circle = Circle(5)\n",
    "print(\"Circle's area:\", circle.area())\n"
   ]
  },
  {
   "cell_type": "code",
   "execution_count": null,
   "id": "9fe9b13b-1f9c-4651-b054-e74d5c71b931",
   "metadata": {},
   "outputs": [],
   "source": []
  }
 ],
 "metadata": {
  "kernelspec": {
   "display_name": "Python 3 (ipykernel)",
   "language": "python",
   "name": "python3"
  },
  "language_info": {
   "codemirror_mode": {
    "name": "ipython",
    "version": 3
   },
   "file_extension": ".py",
   "mimetype": "text/x-python",
   "name": "python",
   "nbconvert_exporter": "python",
   "pygments_lexer": "ipython3",
   "version": "3.10.8"
  }
 },
 "nbformat": 4,
 "nbformat_minor": 5
}
