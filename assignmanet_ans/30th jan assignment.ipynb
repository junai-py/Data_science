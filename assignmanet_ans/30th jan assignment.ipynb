{
 "cells": [
  {
   "cell_type": "markdown",
   "id": "73e081ed-161f-42b4-b470-b30c3495ce79",
   "metadata": {},
   "source": [
    "# 1) program to accept percentage from user and display the grade accordingly "
   ]
  },
  {
   "cell_type": "code",
   "execution_count": 4,
   "id": "f00bd467-5c83-45c1-810f-efd33c37feef",
   "metadata": {},
   "outputs": [
    {
     "name": "stdin",
     "output_type": "stream",
     "text": [
      "Enter your percentage:  90\n"
     ]
    },
    {
     "name": "stdout",
     "output_type": "stream",
     "text": [
      "B grade\n"
     ]
    }
   ],
   "source": [
    "percentage = float(input(\"Enter your percentage: \"))\n",
    "\n",
    "if percentage >90:\n",
    "    print(\"A grade\")\n",
    "elif percentage > 80 and percentage <=90:\n",
    "    print(\"B grade\")\n",
    "elif percentage >= 60 and percentage<=80:\n",
    "    print(\"c grade\")\n",
    "elif percentage <60:\n",
    "    print(\"D grade\")\n"
   ]
  },
  {
   "cell_type": "markdown",
   "id": "8dc4526b-273b-4dfa-abce-238ee229c7db",
   "metadata": {},
   "source": [
    "# 2) program to accept cost price of a bike and display the roadtax to be paid "
   ]
  },
  {
   "cell_type": "code",
   "execution_count": 8,
   "id": "1de0f002-e587-4844-a9c7-5a748c2c65d5",
   "metadata": {},
   "outputs": [
    {
     "name": "stdin",
     "output_type": "stream",
     "text": [
      "Enter your bike cost:  20000\n"
     ]
    },
    {
     "name": "stdout",
     "output_type": "stream",
     "text": [
      "5%  roadtax to be paid  based on your bike price : 1000.0\n"
     ]
    }
   ],
   "source": [
    "price = float(input(\"Enter your bike cost: \"))\n",
    "\n",
    "if price >100000:\n",
    "    print(\"15 % roadtax to be paid  based on your bike price :\", (15 / 100) * price)\n",
    "elif price <=100000 and price > 50000:\n",
    "    print(\"10%  roadtax to be paid  based on your bike price :\", (10 / 100) * price)\n",
    "elif price < 50000:\n",
    "    print(\"5%  roadtax to be paid  based on your bike price :\", (5 / 100) * price)\n",
    "\n"
   ]
  },
  {
   "cell_type": "markdown",
   "id": "142c3dcf-bda8-4607-8fb9-f6c77f185d86",
   "metadata": {},
   "source": [
    "# 3) program to accept any city from the user and display monuments of that city "
   ]
  },
  {
   "cell_type": "code",
   "execution_count": 11,
   "id": "74cc46ff-7777-4828-89b4-785d8a566116",
   "metadata": {},
   "outputs": [
    {
     "name": "stdin",
     "output_type": "stream",
     "text": [
      "Enter your city name :  delhi\n"
     ]
    },
    {
     "name": "stdout",
     "output_type": "stream",
     "text": [
      "Red Fort is the monument\n"
     ]
    }
   ],
   "source": [
    "city = (input(\"Enter your city name : \")).lower()\n",
    "\n",
    "if city ==  \"delhi\":\n",
    "    print(\"Red Fort is the monument\")\n",
    "elif city ==  \"agra\":\n",
    "    print(\"Taj Mahal is the monument\")\n",
    "elif city ==  \"jaipur\":\n",
    "    print(\"Jal Mahal is the monument\")\n"
   ]
  },
  {
   "cell_type": "markdown",
   "id": "ac5d096c-849a-4b81-8114-806cf13dd741",
   "metadata": {},
   "source": [
    "# 4) check how many times a given number can be divided by 3 before it is less than or equal to 10"
   ]
  },
  {
   "cell_type": "code",
   "execution_count": 16,
   "id": "96ae3159-1cac-4f03-b4f8-240b2b8cf066",
   "metadata": {},
   "outputs": [
    {
     "name": "stdin",
     "output_type": "stream",
     "text": [
      "Enter a number:  12345678\n"
     ]
    },
    {
     "name": "stdout",
     "output_type": "stream",
     "text": [
      "12345678  can be divided by 3 13 times before it is less than or equal to 10\n"
     ]
    }
   ],
   "source": [
    "num = int(input(\"Enter a number: \"))\n",
    "inp_num=num\n",
    "count = 0\n",
    "\n",
    "while num >= 10:\n",
    "    num = num / 3\n",
    "    count += 1\n",
    "\n",
    "print(inp_num ,\" can be divided by 3\", count, \"times before it is less than or equal to 10\")"
   ]
  },
  {
   "cell_type": "markdown",
   "id": "9968790f-aded-42a9-8830-97c4118d71c0",
   "metadata": {},
   "source": [
    "# 5) why and when to use while loops "
   ]
  },
  {
   "cell_type": "markdown",
   "id": "f567b92c-f363-474a-8f17-d2cb486a2e52",
   "metadata": {},
   "source": [
    "when the condition has to be  checked before each iteration of the loop, and if it evaluates to True, the loop continues to execute. If the condition evaluates to False, the loop terminates and the control flows to the next statement outside the loop.\n",
    "\n",
    "You would use a while loop when you want to execute a block of code repeatedly as long as a certain condition is met"
   ]
  },
  {
   "cell_type": "markdown",
   "id": "3ccaeb16-1baf-4811-ac60-cdc7bbb52981",
   "metadata": {},
   "source": [
    "# 6)use nested while loop to print patterns"
   ]
  },
  {
   "cell_type": "code",
   "execution_count": 18,
   "id": "84140672-2227-4deb-914b-2551f0b24ed7",
   "metadata": {},
   "outputs": [
    {
     "name": "stdin",
     "output_type": "stream",
     "text": [
      "Enter number of rows:  7\n"
     ]
    },
    {
     "name": "stdout",
     "output_type": "stream",
     "text": [
      "* \n",
      "\n",
      "* * \n",
      "\n",
      "* * * \n",
      "\n",
      "* * * * \n",
      "\n",
      "* * * * * \n",
      "\n",
      "* * * * * * \n",
      "\n",
      "* * * * * * * \n",
      "\n"
     ]
    }
   ],
   "source": [
    "rows = int(input(\"Enter number of rows: \"))\n",
    "\n",
    "for i in range(1, rows + 1):\n",
    "    j = 1\n",
    "    while j <= i:\n",
    "        print(\"*\", end=\" \")\n",
    "        j += 1\n",
    "    print(\"\\n\")\n"
   ]
  },
  {
   "cell_type": "markdown",
   "id": "f825a50e-5765-4f0d-afea-92878e4c76fd",
   "metadata": {},
   "source": [
    "# 7) reverse a while loop to display numbers from 10 to 1\n"
   ]
  },
  {
   "cell_type": "code",
   "execution_count": 19,
   "id": "1a323689-8c2c-48f9-9995-5f6eb8ee43c1",
   "metadata": {},
   "outputs": [
    {
     "name": "stdin",
     "output_type": "stream",
     "text": [
      "Enter number :  30\n"
     ]
    },
    {
     "name": "stdout",
     "output_type": "stream",
     "text": [
      "30\n",
      "29\n",
      "28\n",
      "27\n",
      "26\n",
      "25\n",
      "24\n",
      "23\n",
      "22\n",
      "21\n",
      "20\n",
      "19\n",
      "18\n",
      "17\n",
      "16\n",
      "15\n",
      "14\n",
      "13\n",
      "12\n",
      "11\n",
      "10\n",
      "9\n",
      "8\n",
      "7\n",
      "6\n",
      "5\n",
      "4\n",
      "3\n",
      "2\n",
      "1\n"
     ]
    }
   ],
   "source": [
    "number = int(input(\"Enter number : \"))\n",
    "\n",
    "while number > 0:\n",
    "    print(number)\n",
    "    number -= 1\n"
   ]
  },
  {
   "cell_type": "code",
   "execution_count": null,
   "id": "a4497c7c-0270-489b-b5e8-89b7468698c4",
   "metadata": {},
   "outputs": [],
   "source": []
  }
 ],
 "metadata": {
  "kernelspec": {
   "display_name": "Python 3 (ipykernel)",
   "language": "python",
   "name": "python3"
  },
  "language_info": {
   "codemirror_mode": {
    "name": "ipython",
    "version": 3
   },
   "file_extension": ".py",
   "mimetype": "text/x-python",
   "name": "python",
   "nbconvert_exporter": "python",
   "pygments_lexer": "ipython3",
   "version": "3.10.8"
  }
 },
 "nbformat": 4,
 "nbformat_minor": 5
}
