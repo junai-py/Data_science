{
 "cells": [
  {
   "cell_type": "markdown",
   "id": "ab9ef493-3fe4-4954-b059-f22dbd4bdfe4",
   "metadata": {},
   "source": [
    "# Q1. What is a database? Differentiate between SQL and NoSQL databases."
   ]
  },
  {
   "cell_type": "markdown",
   "id": "4a6be153-7324-4732-a499-70ce5ae85192",
   "metadata": {},
   "source": [
    "A database is a structured collection of data that is organized in a way that allows efficient retrieval, updating, and management of information. Databases are used to store and manage large amounts of data, and are essential for many modern applications, such as e-commerce sites, social media platforms, and financial systems."
   ]
  },
  {
   "cell_type": "markdown",
   "id": "50b05928-4d6c-4572-a684-1e6684436b47",
   "metadata": {},
   "source": [
    "## SQL Databases:"
   ]
  },
  {
   "cell_type": "markdown",
   "id": "8534acc7-f156-4919-8182-2c41af08536a",
   "metadata": {},
   "source": [
    "SQL stands for Structured Query Language, which is a standardized programming language used to manage and manipulate relational databases. SQL databases store data in a structured format, with tables that are linked to each other using keys. Some popular SQL databases include MySQL, Oracle, Microsoft SQL Server, and PostgreSQL"
   ]
  },
  {
   "cell_type": "markdown",
   "id": "81954f46-81f9-45eb-8d70-d1c5f4fbe7ff",
   "metadata": {},
   "source": [
    "## NoSQL Databases:"
   ]
  },
  {
   "cell_type": "markdown",
   "id": "1696d3b0-b6b7-44c5-863f-9a3ba878339c",
   "metadata": {},
   "source": [
    " NoSQL stands for \"not only SQL,\" and refers to a range of database technologies that do not rely on a traditional relational model. NoSQL databases store data in a variety of formats, including document-oriented, key-value, and graph databases."
   ]
  },
  {
   "cell_type": "markdown",
   "id": "968185fa-80ee-4334-a684-a10d7ebb4768",
   "metadata": {},
   "source": [
    "# Q2. What is DDL? Explain why CREATE, DROP, ALTER, and TRUNCATE are used with an example."
   ]
  },
  {
   "cell_type": "markdown",
   "id": "14e58796-2928-4895-aeeb-0062d6c75b01",
   "metadata": {},
   "source": [
    "DDL stands for Data Definition Language, and it is a subset of SQL (Structured Query Language) that is used to define and manage the structure of a database. DDL statements are used to create, modify, and delete database objects such as tables, indexes, and constraints."
   ]
  },
  {
   "cell_type": "markdown",
   "id": "fa117853-ab07-4705-a71b-8aaa5c476c96",
   "metadata": {},
   "source": [
    "### CREATE: \n",
    "The CREATE statement is used to create a new database object, such as a table or index. For example, the following SQL statement creates a new table called \"customers\" with four columns: id, name, email, and phone."
   ]
  },
  {
   "cell_type": "markdown",
   "id": "c6080d07-b444-4ff4-880b-a234b5e855f6",
   "metadata": {},
   "source": [
    "CREATE TABLE customers (\n",
    "    id INT PRIMARY KEY,\n",
    "    name VARCHAR(50),\n",
    "    email VARCHAR(50),\n",
    "    phone VARCHAR(20)\n",
    ");"
   ]
  },
  {
   "cell_type": "markdown",
   "id": "b23e509b-5be5-433a-85e3-118d0b19d2b8",
   "metadata": {},
   "source": [
    "### DROP: \n",
    "The DROP statement is used to delete an existing database object, such as a table or index. For example, the following SQL statement deletes the \"customers\" table\n",
    "\n",
    "DROP TABLE customers;"
   ]
  },
  {
   "cell_type": "markdown",
   "id": "b7c2af5e-b2d3-4bcc-9ac1-62841581f8e4",
   "metadata": {},
   "source": [
    "### ALTER: \n",
    "The ALTER statement is used to modify the structure of an existing database object, such as a table or column. For example, the following SQL statement adds a new column called \"address\" to the \"customers\" table\n",
    "\n",
    "ALTER TABLE customers\n",
    "ADD address VARCHAR(100);"
   ]
  },
  {
   "cell_type": "markdown",
   "id": "3eddb3b4-9542-4e24-8e12-e56499c92ba4",
   "metadata": {},
   "source": [
    "### TRUNCATE: \n",
    "The TRUNCATE statement is used to delete all the data from an existing table, while leaving the table structure intact. For example, the following SQL statement removes all data from the \"customers\" table\n",
    "\n",
    "TRUNCATE TABLE customers;"
   ]
  },
  {
   "cell_type": "markdown",
   "id": "6de766dd-b7a9-4cc0-97a0-c2e0369208a6",
   "metadata": {},
   "source": [
    "# Q3. What is DML? Explain INSERT, UPDATE, and DELETE with an example."
   ]
  },
  {
   "cell_type": "markdown",
   "id": "04ecb482-5c26-4e43-83c6-7b88c78cc8ed",
   "metadata": {},
   "source": [
    "DML stands for Data Manipulation Language, and it is a subset of SQL (Structured Query Language) used to manipulate the data within a database. DML statements are used to insert, update, and delete data from the database tables."
   ]
  },
  {
   "cell_type": "markdown",
   "id": "67664a8c-398a-4ad3-8ac2-feaa16d20d6f",
   "metadata": {},
   "source": [
    "### INSERT: \n",
    "The INSERT statement is used to insert new data into a table. For example, the following SQL statement inserts a new row into the \"employees\" table with the values \"John\", \"Doe\", \"johndoe@email.com\", and \"Marketing\"\n",
    "\n",
    "INSERT INTO employees (first_name, last_name, email, department)\n",
    "VALUES ('John', 'Doe', 'johndoe@email.com', 'Marketing');"
   ]
  },
  {
   "cell_type": "markdown",
   "id": "43771bae-bb36-4083-b262-235684111a11",
   "metadata": {},
   "source": [
    "### UPDATE: \n",
    "The UPDATE statement is used to modify existing data within a table. For example, the following SQL statement updates the email address for the employee with the id of 1234\n",
    "\n",
    "UPDATE employees\n",
    "SET email = 'newemail@email.com'\n",
    "WHERE id = 1234;"
   ]
  },
  {
   "cell_type": "markdown",
   "id": "3042f482-7bd1-4d92-9727-e4fda747d8fb",
   "metadata": {},
   "source": [
    "### DELETE: \n",
    "The DELETE statement is used to remove data from a table. For example, the following SQL statement removes the row from the \"employees\" table where the id is 1234:\n",
    "\n",
    "DELETE FROM employees\n",
    "WHERE id = 1234;"
   ]
  },
  {
   "cell_type": "markdown",
   "id": "8533701a-ad3a-41d9-9a18-06d142f37ddd",
   "metadata": {},
   "source": [
    "# Q4. What is DQL? Explain SELECT with an example."
   ]
  },
  {
   "cell_type": "markdown",
   "id": "aff21a36-22c9-4021-b21b-4b8b63d1b1cd",
   "metadata": {},
   "source": [
    "DQL stands for Data Query Language, and it is a subset of SQL (Structured Query Language) used to retrieve data from a database. DQL statements are used to retrieve data from one or more tables in the database"
   ]
  },
  {
   "cell_type": "markdown",
   "id": "7cec7c7f-33eb-450c-a25c-6ac9cdef80dd",
   "metadata": {},
   "source": [
    "### SELECT:\n",
    "The SELECT statement is used to retrieve data from one or more tables in a database. For example, the following SQL statement retrieves all data from the \"employees\" table:\n",
    "\n",
    "SELECT * FROM employees;"
   ]
  },
  {
   "cell_type": "markdown",
   "id": "fa0347ab-202f-4dcb-8626-477db94b0d2a",
   "metadata": {},
   "source": [
    "# Q5. Explain Primary Key and Foreign Key."
   ]
  },
  {
   "cell_type": "markdown",
   "id": "5c2914a3-32ec-4c4a-a8ce-407a63e1dc76",
   "metadata": {},
   "source": [
    "In a relational database, a primary key and foreign key are used to establish relationships between tables.\n",
    "### primary key\n",
    "A primary key is a column or a set of columns in a table that uniquely identifies each row in the table. The primary key column(s) must contain a unique value for each row, and it cannot contain null values. The primary key is used to enforce the integrity of the data in the table, and it is used to establish relationships between tables. For example, in a database that stores information about employees and their departments, the \"employee_id\" column in the \"employees\" table could be the primary key, as each employee would have a unique ID.\n",
    "### foreign key\n",
    "A foreign key is a column or a set of columns in one table that refers to the primary key column(s) in another table. The foreign key establishes a relationship between the two tables, and it is used to enforce referential integrity. For example, in the database that stores information about employees and their departments, the \"department_id\" column in the \"employees\" table could be a foreign key that refers to the \"department_id\" column in the \"departments\" table."
   ]
  },
  {
   "cell_type": "markdown",
   "id": "401b6226-795b-4ed3-9cf7-313644dd5d5d",
   "metadata": {},
   "source": [
    "# Q6. Write a python code to connect MySQL to python. Explain the cursor() and execute() method."
   ]
  },
  {
   "cell_type": "code",
   "execution_count": 3,
   "id": "c54ab006-9c02-4b95-a8a3-184f190dbfb6",
   "metadata": {},
   "outputs": [
    {
     "ename": "ModuleNotFoundError",
     "evalue": "No module named 'mysql'",
     "output_type": "error",
     "traceback": [
      "\u001b[0;31m---------------------------------------------------------------------------\u001b[0m",
      "\u001b[0;31mModuleNotFoundError\u001b[0m                       Traceback (most recent call last)",
      "Cell \u001b[0;32mIn[3], line 1\u001b[0m\n\u001b[0;32m----> 1\u001b[0m \u001b[38;5;28;01mimport\u001b[39;00m \u001b[38;5;21;01mmysql\u001b[39;00m\u001b[38;5;21;01m.\u001b[39;00m\u001b[38;5;21;01mconnector\u001b[39;00m\n\u001b[1;32m      3\u001b[0m \u001b[38;5;66;03m# Connect to MySQL database\u001b[39;00m\n\u001b[1;32m      4\u001b[0m mydb \u001b[38;5;241m=\u001b[39m mysql\u001b[38;5;241m.\u001b[39mconnector\u001b[38;5;241m.\u001b[39mconnect(\n\u001b[1;32m      5\u001b[0m   host\u001b[38;5;241m=\u001b[39m\u001b[38;5;124m\"\u001b[39m\u001b[38;5;124mlocalhost\u001b[39m\u001b[38;5;124m\"\u001b[39m,\n\u001b[1;32m      6\u001b[0m   user\u001b[38;5;241m=\u001b[39m\u001b[38;5;124m\"\u001b[39m\u001b[38;5;124musername\u001b[39m\u001b[38;5;124m\"\u001b[39m,\n\u001b[1;32m      7\u001b[0m   password\u001b[38;5;241m=\u001b[39m\u001b[38;5;124m\"\u001b[39m\u001b[38;5;124mpassword\u001b[39m\u001b[38;5;124m\"\u001b[39m,\n\u001b[1;32m      8\u001b[0m   database\u001b[38;5;241m=\u001b[39m\u001b[38;5;124m\"\u001b[39m\u001b[38;5;124mdatabasename\u001b[39m\u001b[38;5;124m\"\u001b[39m\n\u001b[1;32m      9\u001b[0m )\n",
      "\u001b[0;31mModuleNotFoundError\u001b[0m: No module named 'mysql'"
     ]
    }
   ],
   "source": [
    "import mysql.connector\n",
    "\n",
    "# Connect to MySQL database\n",
    "mydb = mysql.connector.connect(\n",
    "  host=\"localhost\",\n",
    "  user=\"username\",\n",
    "  password=\"password\",\n",
    "  database=\"databasename\"\n",
    ")\n",
    "\n",
    "# Create a cursor object\n",
    "mycursor = mydb.cursor()\n",
    "\n",
    "# Execute a SQL query\n",
    "mycursor.execute(\"SELECT * FROM employees\")\n",
    "\n",
    "# Fetch all the results\n",
    "results = mycursor.fetchall()\n",
    "\n",
    "# Print the results\n",
    "for result in results:\n",
    "  print(result)\n",
    "\n",
    "# Close the connection\n",
    "mydb.close()\n"
   ]
  },
  {
   "cell_type": "markdown",
   "id": "c56ae495-6620-4d38-9eb7-3fdf44f6a113",
   "metadata": {},
   "source": [
    "# Q7. Give the order of execution of SQL clauses in an SQL query."
   ]
  },
  {
   "cell_type": "markdown",
   "id": "bfa17532-197e-4c4d-b51e-212e28826c82",
   "metadata": {},
   "source": [
    "FROM: This clause specifies the table or tables from which to retrieve the data.\n",
    "\n",
    "WHERE: This clause filters the data based on a condition or set of conditions.\n",
    "\n",
    "GROUP BY: This clause groups the data based on one or more columns.\n",
    "\n",
    "HAVING: This clause filters the grouped data based on a condition or set of conditions.\n",
    "\n",
    "SELECT: This clause specifies the columns to retrieve from the table.\n",
    "\n",
    "ORDER BY: This clause sorts the data based on one or more columns.\n",
    "\n",
    "LIMIT: This clause specifies the maximum number of rows to retrieve."
   ]
  },
  {
   "cell_type": "code",
   "execution_count": null,
   "id": "658dbd19-fd2d-46ee-ba31-2b5e8f8df3e3",
   "metadata": {},
   "outputs": [],
   "source": []
  }
 ],
 "metadata": {
  "kernelspec": {
   "display_name": "Python 3 (ipykernel)",
   "language": "python",
   "name": "python3"
  },
  "language_info": {
   "codemirror_mode": {
    "name": "ipython",
    "version": 3
   },
   "file_extension": ".py",
   "mimetype": "text/x-python",
   "name": "python",
   "nbconvert_exporter": "python",
   "pygments_lexer": "ipython3",
   "version": "3.10.8"
  }
 },
 "nbformat": 4,
 "nbformat_minor": 5
}
