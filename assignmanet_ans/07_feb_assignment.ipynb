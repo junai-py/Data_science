{
 "cells": [
  {
   "cell_type": "markdown",
   "id": "6969f4a9-0b97-4cbf-86af-563d61be0c75",
   "metadata": {},
   "source": [
    "# Q1. You are writing code for a company. The requirement of the company is that you create a python function that will check whether the password entered by the user is correct or not. The function should take the password as input and return the string “Valid Password” if the entered password follows the below-given password guidelines else it should return “Invalid Password”.\n",
    "## Note: \n",
    "### 1. The Password should contain at least two uppercase letters and at least two lowercase letters.\n",
    "### 2. The Password should contain at least a number and three special characters.\n",
    "### 3. The length of the password should be 10 characters long."
   ]
  },
  {
   "cell_type": "code",
   "execution_count": 2,
   "id": "e237f808-4c41-4851-b663-096890f63d0f",
   "metadata": {},
   "outputs": [
    {
     "name": "stdout",
     "output_type": "stream",
     "text": [
      "Valid Password\n"
     ]
    }
   ],
   "source": [
    "def validate_password(password):\n",
    "    lowercase_count = 0\n",
    "    uppercase_count = 0\n",
    "    digit_count = 0\n",
    "    special_count = 0\n",
    "    special_characters = \"!@#$%^&*()_+=-\"\n",
    "\n",
    "    if len(password) != 10:\n",
    "        return \"Invalid Password\"\n",
    "\n",
    "    for char in password:\n",
    "        if char.islower():\n",
    "            lowercase_count += 1\n",
    "        elif char.isupper():\n",
    "            uppercase_count += 1\n",
    "        elif char.isdigit():\n",
    "            digit_count += 1\n",
    "        elif char in special_characters:\n",
    "            special_count += 1\n",
    "\n",
    "    if lowercase_count >= 2 and uppercase_count >= 2 and digit_count >= 1 and special_count >= 3:\n",
    "        return \"Valid Password\"\n",
    "    else:\n",
    "        return \"Invalid Password\"\n",
    "\n",
    "password = \"Abc!#12@Aa\"\n",
    "result = validate_password(password)\n",
    "print(result)\n"
   ]
  },
  {
   "cell_type": "markdown",
   "id": "5e9a1dc1-5f06-44f9-9956-ba7a655a0dbd",
   "metadata": {},
   "source": [
    "# Q2. Solve the below-given questions using at least one of the following:\n",
    "## 1. Lambda function\n",
    "## 2. Filter function\n",
    "## 3. Zap function\n",
    "## 4. List Comprehension"
   ]
  },
  {
   "cell_type": "markdown",
   "id": "4fb14d1e-d43a-43b1-b3d7-2cf1989319af",
   "metadata": {},
   "source": [
    "## Check if the string starts with a particular letter"
   ]
  },
  {
   "cell_type": "code",
   "execution_count": 3,
   "id": "c30cb27c-f9c0-4439-88ce-1b7834d9c907",
   "metadata": {},
   "outputs": [
    {
     "name": "stdout",
     "output_type": "stream",
     "text": [
      "The string starts with 'H'\n"
     ]
    }
   ],
   "source": [
    "string = \"Hello, world!\"\n",
    "starts_with_h = (lambda x: x.startswith(\"H\"))\n",
    "\n",
    "result = starts_with_h(string)\n",
    "\n",
    "if result:\n",
    "    print(\"The string starts with 'H'\")\n",
    "else:\n",
    "    print(\"The string does not start with 'H'\")\n"
   ]
  },
  {
   "cell_type": "markdown",
   "id": "3155ffee-32a7-486e-be4d-153472405a14",
   "metadata": {},
   "source": [
    "## Check if the string is numeric"
   ]
  },
  {
   "cell_type": "code",
   "execution_count": 4,
   "id": "72194541-3bee-4725-83f0-c912edb110e4",
   "metadata": {},
   "outputs": [
    {
     "name": "stdout",
     "output_type": "stream",
     "text": [
      "The string is numeric\n"
     ]
    }
   ],
   "source": [
    "string = \"12345\"\n",
    "is_numeric = (lambda x: x.isdigit())\n",
    "\n",
    "result = is_numeric(string)\n",
    "\n",
    "if result:\n",
    "    print(\"The string is numeric\")\n",
    "else:\n",
    "    print(\"The string is not numeric\")\n"
   ]
  },
  {
   "cell_type": "markdown",
   "id": "980fad4f-4cab-4178-a8d6-e00965e59e02",
   "metadata": {},
   "source": [
    "## Sort a list of tuples having fruit names and their quantity. [(\"mango\",99),(\"orange\",80), (\"grapes\", 1000)]"
   ]
  },
  {
   "cell_type": "code",
   "execution_count": 5,
   "id": "5aae509c-d58f-49e4-aa2e-1eccd8c500c6",
   "metadata": {},
   "outputs": [
    {
     "name": "stdout",
     "output_type": "stream",
     "text": [
      "[('orange', 80), ('mango', 99), ('grapes', 1000)]\n"
     ]
    }
   ],
   "source": [
    "fruits = [(\"mango\",99),(\"orange\",80), (\"grapes\", 1000)]\n",
    "sorted_fruits = sorted(fruits, key=lambda x: x[1])\n",
    "print(sorted_fruits)"
   ]
  },
  {
   "cell_type": "markdown",
   "id": "a36b3a8d-1615-4ec6-aced-0232dce43dea",
   "metadata": {},
   "source": [
    "## Find the squares of numbers from 1 to 10"
   ]
  },
  {
   "cell_type": "code",
   "execution_count": 6,
   "id": "4302b7e0-deea-40da-b3f2-929030424108",
   "metadata": {},
   "outputs": [
    {
     "name": "stdout",
     "output_type": "stream",
     "text": [
      "[1, 4, 9, 16, 25, 36, 49, 64, 81, 100]\n"
     ]
    }
   ],
   "source": [
    "numbers = range(1, 11)\n",
    "squared_numbers = list(map(lambda x: x**2, numbers))\n",
    "print(squared_numbers)\n"
   ]
  },
  {
   "cell_type": "markdown",
   "id": "c9e82a49-eaec-4729-b4ec-209b5368d4f4",
   "metadata": {},
   "source": [
    "## Find the cube root of numbers from 1 to 10"
   ]
  },
  {
   "cell_type": "code",
   "execution_count": 7,
   "id": "acb499c0-37e9-4eb4-97b3-bf8b261ce051",
   "metadata": {},
   "outputs": [
    {
     "name": "stdout",
     "output_type": "stream",
     "text": [
      "[1, 8, 27, 64, 125, 216, 343, 512, 729, 1000]\n"
     ]
    }
   ],
   "source": [
    "numbers = range(1, 11)\n",
    "squared_numbers = list(map(lambda x: x**3, numbers))\n",
    "print(squared_numbers)\n"
   ]
  },
  {
   "cell_type": "markdown",
   "id": "58109cde-5516-49ef-a2c0-af82f3c96fcb",
   "metadata": {},
   "source": [
    "## Check if a given number is even"
   ]
  },
  {
   "cell_type": "code",
   "execution_count": 8,
   "id": "325cc628-7eb8-4e0e-944c-6866f50728d0",
   "metadata": {},
   "outputs": [
    {
     "name": "stdout",
     "output_type": "stream",
     "text": [
      "The number is even\n"
     ]
    }
   ],
   "source": [
    "number = 4\n",
    "is_even = (lambda x: x % 2 == 0)\n",
    "\n",
    "result = is_even(number)\n",
    "\n",
    "if result:\n",
    "    print(\"The number is even\")\n",
    "else:\n",
    "    print(\"The number is odd\")\n"
   ]
  },
  {
   "cell_type": "markdown",
   "id": "f278ea69-0773-409e-801c-5a4d2bd003a9",
   "metadata": {},
   "source": [
    " ## Filter odd numbers from the given list. [1,2,3,4,5,6,7,8,9,10]"
   ]
  },
  {
   "cell_type": "code",
   "execution_count": 17,
   "id": "7b211bed-47da-4bd8-b001-35d8377c56c4",
   "metadata": {},
   "outputs": [
    {
     "name": "stdout",
     "output_type": "stream",
     "text": [
      "[1, 3, 5, 7, 9]\n"
     ]
    }
   ],
   "source": [
    "l=[1,2,3,4,5,6,7,8,9,10]\n",
    "odd=list(filter(lambda X : X%2 !=0,l))\n",
    "print(odd)"
   ]
  },
  {
   "cell_type": "markdown",
   "id": "40495692-1a6f-4b16-a6ae-5037d6d3f62c",
   "metadata": {},
   "source": [
    "## Sort a list of integers into positive and negative integers lists.[1,2,3,4,5,6,-1,-2,-3,-4,-5,0]"
   ]
  },
  {
   "cell_type": "code",
   "execution_count": 20,
   "id": "85d5ccde-4e57-4f7b-8167-f7cc020e1f52",
   "metadata": {},
   "outputs": [
    {
     "name": "stdout",
     "output_type": "stream",
     "text": [
      "Positive numbers: [1, 2, 3, 4, 5, 6]\n",
      "Negative numbers: [-1, -2, -3, -4, -5]\n"
     ]
    }
   ],
   "source": [
    "numbers = [1, 2, 3, 4, 5, 6, -1, -2, -3, -4, -5, 0]\n",
    "\n",
    "positive_numbers = list(filter(lambda x: x > 0, numbers))\n",
    "negative_numbers = list(filter(lambda x: x < 0, numbers))\n",
    "\n",
    "print(\"Positive numbers:\", positive_numbers)\n",
    "print(\"Negative numbers:\", negative_numbers)\n"
   ]
  },
  {
   "cell_type": "code",
   "execution_count": null,
   "id": "0ece882b-46ec-4d74-b894-30d376ba8414",
   "metadata": {},
   "outputs": [],
   "source": []
  }
 ],
 "metadata": {
  "kernelspec": {
   "display_name": "Python 3 (ipykernel)",
   "language": "python",
   "name": "python3"
  },
  "language_info": {
   "codemirror_mode": {
    "name": "ipython",
    "version": 3
   },
   "file_extension": ".py",
   "mimetype": "text/x-python",
   "name": "python",
   "nbconvert_exporter": "python",
   "pygments_lexer": "ipython3",
   "version": "3.10.8"
  }
 },
 "nbformat": 4,
 "nbformat_minor": 5
}
