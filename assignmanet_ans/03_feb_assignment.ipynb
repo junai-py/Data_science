{
 "cells": [
  {
   "cell_type": "markdown",
   "id": "b32c68b3-334c-45b5-a441-b783bd30e9db",
   "metadata": {},
   "source": [
    "# Q1. Which keyword is used to create a function? Create a function to return a list of odd numbers in the range of 1 to 25."
   ]
  },
  {
   "cell_type": "markdown",
   "id": "78a28d44-ad6b-4ebe-9a92-2661c951a24e",
   "metadata": {},
   "source": [
    "\"def\" keyword used to creat a function"
   ]
  },
  {
   "cell_type": "code",
   "execution_count": 7,
   "id": "d90447ca-69c7-4b54-8850-35717f618a17",
   "metadata": {},
   "outputs": [],
   "source": [
    "def odd(a,b):\n",
    "    ls=[]\n",
    "    for i in range(a,b):\n",
    "        if i % 2 :\n",
    "            ls.append(i)\n",
    "    return ls"
   ]
  },
  {
   "cell_type": "code",
   "execution_count": 8,
   "id": "746ef45d-90d6-4d68-a833-a111aef0071d",
   "metadata": {},
   "outputs": [
    {
     "data": {
      "text/plain": [
       "[1, 3, 5, 7, 9, 11, 13, 15, 17, 19, 21, 23]"
      ]
     },
     "execution_count": 8,
     "metadata": {},
     "output_type": "execute_result"
    }
   ],
   "source": [
    "odd(1,25) "
   ]
  },
  {
   "cell_type": "markdown",
   "id": "b3ac61b1-5c62-4566-9a55-0d6c87364ff0",
   "metadata": {},
   "source": [
    "# Q2. Why *args and **kwargs is used in some functions? Create a function each for *args and **kwargs to demonstrate their use."
   ]
  },
  {
   "cell_type": "markdown",
   "id": "1d27e8c8-e2ce-4222-aea0-993acd7948b6",
   "metadata": {},
   "source": [
    "*args is used to send a non-keyworded variable length argument list to the function. This allows you to pass any number of non-keyworded arguments to a function. The arguments passed to *args are packed into a tuple"
   ]
  },
  {
   "cell_type": "markdown",
   "id": "00eacbd5-e055-45c5-992c-2c3db839f1da",
   "metadata": {},
   "source": [
    "**kwargs is used to send a keyworded variable length argument list to the function. This allows you to pass any number of keyworded arguments to a function. The arguments passed to **kwargs are packed into a dictionary"
   ]
  },
  {
   "cell_type": "code",
   "execution_count": 13,
   "id": "77166938-4275-4c58-83b3-27b87b9f7b38",
   "metadata": {},
   "outputs": [],
   "source": [
    "def test(*test):\n",
    "    return(test)"
   ]
  },
  {
   "cell_type": "code",
   "execution_count": 14,
   "id": "7959177d-f6e7-4750-a439-0e904fdb6c72",
   "metadata": {},
   "outputs": [
    {
     "data": {
      "text/plain": [
       "(1,)"
      ]
     },
     "execution_count": 14,
     "metadata": {},
     "output_type": "execute_result"
    }
   ],
   "source": [
    "test(1)"
   ]
  },
  {
   "cell_type": "code",
   "execution_count": 15,
   "id": "e3517897-8e7e-4d87-b059-1c90dfbea156",
   "metadata": {},
   "outputs": [
    {
     "data": {
      "text/plain": [
       "(1, 2, 3, 4)"
      ]
     },
     "execution_count": 15,
     "metadata": {},
     "output_type": "execute_result"
    }
   ],
   "source": [
    "test(1,2,3,4)"
   ]
  },
  {
   "cell_type": "code",
   "execution_count": 17,
   "id": "055067f1-12a7-4e37-97fb-d66db3542dfe",
   "metadata": {},
   "outputs": [],
   "source": [
    "def test_2(**kwargs):\n",
    "    return kwargs"
   ]
  },
  {
   "cell_type": "code",
   "execution_count": 18,
   "id": "492eed55-450a-40d3-bb27-ec73e161ed52",
   "metadata": {},
   "outputs": [
    {
     "data": {
      "text/plain": [
       "{'a': 1, 'b': 2}"
      ]
     },
     "execution_count": 18,
     "metadata": {},
     "output_type": "execute_result"
    }
   ],
   "source": [
    "test_2(a=1,b=2)"
   ]
  },
  {
   "cell_type": "markdown",
   "id": "2eee7822-5835-4767-b467-9831c330ede0",
   "metadata": {},
   "source": [
    "# Q3. What is an iterator in python? Name the method used to initialise the iterator object and the method used for iteration. Use these methods to print the first five elements of the given list [2, 4, 6, 8, 10, 12, 14, 16, 18, 20]."
   ]
  },
  {
   "cell_type": "markdown",
   "id": "2f8a8b67-8e0c-46ab-8501-f99181a76ffa",
   "metadata": {},
   "source": [
    "In Python, an iterator is an object that implements the iterator protocol, which consists of two methods: __iter__ and __next__. The __iter__ method returns the iterator object and the __next__ method returns the next value from the iterator. An iterator is used to represent a stream of data that can be iterated upon, like a list, tuple, or dictionary.\n",
    "\n",
    "To create an iterator, you can pass a list, tuple, or other iterable object to the iter() function, which returns an iterator object. The next() function can be used to retrieve the next value from the iterator. When there are no more items to return, the StopIteration exception is raised"
   ]
  },
  {
   "cell_type": "code",
   "execution_count": 20,
   "id": "3142f4b6-cdd2-4cbf-bf9c-4b0d49c62b25",
   "metadata": {},
   "outputs": [
    {
     "name": "stdout",
     "output_type": "stream",
     "text": [
      "i is : 0 next is : 2\n",
      "i is : 1 next is : 4\n",
      "i is : 2 next is : 6\n",
      "i is : 3 next is : 8\n",
      "i is : 4 next is : 10\n"
     ]
    }
   ],
   "source": [
    "numbers = [2, 4, 6, 8, 10, 12, 14, 16, 18, 20]\n",
    "\n",
    "iterator = iter(numbers)\n",
    "\n",
    "for i in range(5):\n",
    "    print(\"i is :\",i, \"next is :\",next(iterator))\n"
   ]
  },
  {
   "cell_type": "markdown",
   "id": "b7fa7f5a-8ab5-4d73-bc8c-060ee0e8b083",
   "metadata": {},
   "source": [
    "# Q4. What is a generator function in python? Why yield keyword is used? Give an example of a generator function."
   ]
  },
  {
   "cell_type": "markdown",
   "id": "fcdfc57d-89a1-43f0-8419-950ac3bf46f0",
   "metadata": {},
   "source": [
    "a generator function is a special kind of function that uses the yield keyword to produce a sequence of values, one at a time, when iterated over.\n"
   ]
  },
  {
   "cell_type": "code",
   "execution_count": 28,
   "id": "49398683-77af-4dee-a25f-e2d9fe973bff",
   "metadata": {},
   "outputs": [],
   "source": [
    "def fibo(n):\n",
    "    a,b=0,1\n",
    "    for i in range(n):\n",
    "        # print(a)\n",
    "        yield(a)\n",
    "        a,b=b,a+b"
   ]
  },
  {
   "cell_type": "code",
   "execution_count": 29,
   "id": "5c5a78a6-c157-4c2a-bc46-b440d0635cbf",
   "metadata": {},
   "outputs": [
    {
     "name": "stdout",
     "output_type": "stream",
     "text": [
      "0\n",
      "1\n",
      "1\n",
      "2\n",
      "3\n",
      "5\n",
      "8\n",
      "13\n",
      "21\n",
      "34\n",
      "55\n",
      "89\n",
      "144\n",
      "233\n",
      "377\n",
      "610\n",
      "987\n",
      "1597\n",
      "2584\n",
      "4181\n"
     ]
    }
   ],
   "source": [
    "for i in fibo(20):\n",
    "    print(i)"
   ]
  },
  {
   "cell_type": "markdown",
   "id": "40d574c6-0c41-40bf-ba16-4639adafc3a6",
   "metadata": {},
   "source": [
    "# Q5. Create a generator function for prime numbers less than 1000. Use the next() method to print the first 20 prime numbers."
   ]
  },
  {
   "cell_type": "code",
   "execution_count": null,
   "id": "483d183a-09c1-429e-85b8-692d7710057d",
   "metadata": {},
   "outputs": [],
   "source": []
  }
 ],
 "metadata": {
  "kernelspec": {
   "display_name": "Python 3 (ipykernel)",
   "language": "python",
   "name": "python3"
  },
  "language_info": {
   "codemirror_mode": {
    "name": "ipython",
    "version": 3
   },
   "file_extension": ".py",
   "mimetype": "text/x-python",
   "name": "python",
   "nbconvert_exporter": "python",
   "pygments_lexer": "ipython3",
   "version": "3.10.8"
  }
 },
 "nbformat": 4,
 "nbformat_minor": 5
}
