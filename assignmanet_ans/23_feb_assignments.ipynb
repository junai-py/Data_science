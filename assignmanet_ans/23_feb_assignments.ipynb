{
 "cells": [
  {
   "cell_type": "markdown",
   "id": "ade57825-d753-4095-a37a-8b74a3e61983",
   "metadata": {},
   "source": [
    "# Q1. List any five functions of the pandas library with execution."
   ]
  },
  {
   "cell_type": "markdown",
   "id": "67928152-281c-4b96-8ffc-6d7974266c90",
   "metadata": {},
   "source": [
    "read_csv(): This function is used to read data from a CSV file and create a DataFrame."
   ]
  },
  {
   "cell_type": "code",
   "execution_count": null,
   "id": "d2f52067-24b6-4b94-90c8-8efb2edce820",
   "metadata": {},
   "outputs": [],
   "source": [
    "import pandas as pd\n",
    "\n",
    "# Read a CSV file and create a DataFrame\n",
    "df = pd.read_csv('titanic-Copy1.csv')\n",
    "print(df.head())"
   ]
  },
  {
   "cell_type": "markdown",
   "id": "2c97e33d-16a1-43a9-a41a-549d7a4705ba",
   "metadata": {},
   "source": [
    "head(): It returns the first n rows of a DataFrame. By default, it displays the first five rows."
   ]
  },
  {
   "cell_type": "code",
   "execution_count": null,
   "id": "04b6d0b1-3906-45a9-b017-7a16c4d10e42",
   "metadata": {},
   "outputs": [],
   "source": [
    "df.head()"
   ]
  },
  {
   "cell_type": "markdown",
   "id": "3f08cd2c-285e-4658-a7e4-667bc006a59b",
   "metadata": {},
   "source": [
    "describe(): It generates descriptive statistics of a DataFrame, including count, mean, standard deviation, minimum, quartiles, and maximum values."
   ]
  },
  {
   "cell_type": "code",
   "execution_count": null,
   "id": "a7452ef0-71b3-4df7-a23a-17cafec87c9b",
   "metadata": {},
   "outputs": [],
   "source": [
    "df.describe()"
   ]
  },
  {
   "cell_type": "markdown",
   "id": "7da4953b-cfc3-4b1a-9b82-74a15808e85e",
   "metadata": {},
   "source": [
    "groupby(): This function is used to group data based on one or more columns and perform aggregations on the groups."
   ]
  },
  {
   "cell_type": "code",
   "execution_count": null,
   "id": "0e143eb6-121e-4a40-8603-8ec1b7c0f204",
   "metadata": {},
   "outputs": [],
   "source": [
    "df.groupby('Pclass')[\"Name\"]"
   ]
  },
  {
   "cell_type": "markdown",
   "id": "61fde07d-9abe-4d9d-ac28-ea64b95150b4",
   "metadata": {},
   "source": [
    "sort_values(): It is used to sort a DataFrame based on one or more columns."
   ]
  },
  {
   "cell_type": "code",
   "execution_count": null,
   "id": "20309d03-6a52-4ed8-aecb-a4b25f98bd35",
   "metadata": {},
   "outputs": [],
   "source": [
    "df.sort_values(by='Age', ascending=False)"
   ]
  },
  {
   "cell_type": "markdown",
   "id": "00eb5a50-190b-41e4-b406-ae5c68b3dbdb",
   "metadata": {},
   "source": [
    "# Q2. Given a Pandas DataFrame df with columns 'A', 'B', and 'C', write a Python function to re-index the DataFrame with a new index that starts from 1 and increments by 2 for each row."
   ]
  },
  {
   "cell_type": "code",
   "execution_count": null,
   "id": "fb38a6d1-895c-43e5-8a65-ff16b074167b",
   "metadata": {},
   "outputs": [],
   "source": [
    "import pandas as pd\n",
    "\n",
    "def reindex_dataframe(df):\n",
    "    # Create a new index using range starting from 1 and incrementing by 2\n",
    "    new_index = range(1, len(df) * 2, 2)\n",
    "    \n",
    "    # Re-index the DataFrame\n",
    "    reindexed_df = df.set_index(new_index)\n",
    "    \n",
    "    return reindexed_df\n"
   ]
  },
  {
   "cell_type": "code",
   "execution_count": null,
   "id": "d302dd09-fb85-495d-b14b-9880d4353f21",
   "metadata": {},
   "outputs": [],
   "source": [
    "\n",
    "reindexed_df = reindex_dataframe(df)\n",
    "\n",
    "print(reindexed_df)"
   ]
  },
  {
   "cell_type": "markdown",
   "id": "58f55e8d-3b8d-46d3-831b-99ad7676e46c",
   "metadata": {},
   "source": [
    "# Q3. You have a Pandas DataFrame df with a column named 'Values'. Write a Python function that iterates over the DataFrame and calculates the sum of the first three values in the 'Values' column. Thefunction should print the sum to the console.\n",
    "# For example, if the 'Values' column of df contains the values [10, 20, 30, 40, 50], your function should\n",
    "# calculate and print the sum of the first three values, which is 60."
   ]
  },
  {
   "cell_type": "code",
   "execution_count": null,
   "id": "1f84febd-bd1c-4848-bbd7-14e9e279fde9",
   "metadata": {},
   "outputs": [],
   "source": [
    "import pandas as pd\n",
    "\n",
    "def calculate_sum(df):\n",
    "    # Access the first three values in the 'Values' column using iloc\n",
    "    values_subset = df['Values'].iloc[:3]\n",
    "    \n",
    "    # Calculate the sum of the values\n",
    "    sum_values = values_subset.sum()\n",
    "    \n",
    "    # Print the sum to the console\n",
    "    print(\"Sum of the first three values:\", sum_values)\n"
   ]
  },
  {
   "cell_type": "code",
   "execution_count": null,
   "id": "30315aea-2046-4556-8cd5-85aeeea4facc",
   "metadata": {},
   "outputs": [],
   "source": [
    "calculate_sum(df)\n"
   ]
  },
  {
   "cell_type": "markdown",
   "id": "b52e041c-7141-4ede-8a61-ee8bfa4f8867",
   "metadata": {},
   "source": [
    "# Q4. Given a Pandas DataFrame df with a column 'Text', write a Python function to create a new column\n",
    "# 'Word_Count' that contains the number of words in each row of the 'Text' column."
   ]
  },
  {
   "cell_type": "code",
   "execution_count": null,
   "id": "bd11bbe6-3447-414a-a409-03ae28312f99",
   "metadata": {},
   "outputs": [],
   "source": [
    "import pandas as pd\n",
    "\n",
    "def count_words(df, text_column, new_column):\n",
    "    # Create a new column 'Word_Count' with the count of words in 'Text' column\n",
    "    df[new_column] = df[text_column].apply(lambda x: len(x.split()))\n",
    "    \n",
    "    return df\n"
   ]
  },
  {
   "cell_type": "code",
   "execution_count": null,
   "id": "e345e45a-a0b9-4c70-a9eb-0e933137598d",
   "metadata": {},
   "outputs": [],
   "source": [
    "df = count_words(df, 'Text', 'Word_Count')\n",
    "\n",
    "# Display the DataFrame with the new column\n",
    "print(df)"
   ]
  },
  {
   "cell_type": "markdown",
   "id": "54a7e70c-c8f2-412e-8c72-7b53c6c43da8",
   "metadata": {},
   "source": [
    "# Q5. How are DataFrame.size() and DataFrame.shape() different?"
   ]
  },
  {
   "cell_type": "raw",
   "id": "8ba55984-2f6a-4220-acf4-4fe6efe429b7",
   "metadata": {},
   "source": [
    "DataFrame.size(): This method returns the total number of elements in a DataFrame, which is calculated by multiplying the number of rows by the number of columns. The size() method does not provide information about the structure or dimensions of the DataFrame, but instead gives the total count of elements."
   ]
  },
  {
   "cell_type": "raw",
   "id": "6f960494-fca1-4d1c-9155-5fec26bb0084",
   "metadata": {},
   "source": [
    "DataFrame.shape(): This method returns a tuple representing the dimensions of the DataFrame. The tuple contains two values: the number of rows and the number of columns, respectively. It provides information about the structure or shape of the DataFrame."
   ]
  },
  {
   "cell_type": "code",
   "execution_count": null,
   "id": "90e68558-c9db-4419-ae5c-b4d1dd69ccd0",
   "metadata": {},
   "outputs": [],
   "source": []
  }
 ],
 "metadata": {
  "kernelspec": {
   "display_name": "Python 3 (ipykernel)",
   "language": "python",
   "name": "python3"
  },
  "language_info": {
   "codemirror_mode": {
    "name": "ipython",
    "version": 3
   },
   "file_extension": ".py",
   "mimetype": "text/x-python",
   "name": "python",
   "nbconvert_exporter": "python",
   "pygments_lexer": "ipython3",
   "version": "3.10.8"
  }
 },
 "nbformat": 4,
 "nbformat_minor": 5
}
