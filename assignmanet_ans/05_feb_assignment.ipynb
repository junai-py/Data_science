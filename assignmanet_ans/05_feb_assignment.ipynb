{
 "cells": [
  {
   "cell_type": "markdown",
   "id": "a36ce722-0674-4298-962f-33425f279ec7",
   "metadata": {},
   "source": [
    "# Q1. Explain Class and Object with respect to Object-Oriented Programming. Give a suitable example."
   ]
  },
  {
   "cell_type": "markdown",
   "id": "ddbf4421-2a4a-4820-813f-ec8408387db6",
   "metadata": {},
   "source": [
    "Class and object are two fundamental concepts in object-oriented programming (OOP).\n",
    "\n",
    "A class is a blueprint or a template for creating objects. It defines the attributes and methods of objects that are created from the class. For example, you can define a class Person that has the attributes name and age and the method say_hello(). Every Person object that you create from this class will have these attributes and methods.\n",
    "\n",
    "An object, on the other hand, is an instance of a class. It has its own unique values for the attributes defined in the class and its own unique behavior as defined by the methods of the class. For example, you can create two Person objects, one for yourself and one for your friend, and each object will have its own unique values for the name and age attributes."
   ]
  },
  {
   "cell_type": "code",
   "execution_count": 1,
   "id": "cbf4aa05-77db-46ea-8489-3252608dccf3",
   "metadata": {},
   "outputs": [
    {
     "name": "stdout",
     "output_type": "stream",
     "text": [
      "John Doe 30\n",
      "Jane Doe 25\n",
      "Hello, my name is John Doe\n",
      "Hello, my name is Jane Doe\n"
     ]
    }
   ],
   "source": [
    "class Person:\n",
    "    def __init__(self, name, age):\n",
    "        self.name = name\n",
    "        self.age = age\n",
    "\n",
    "    def say_hello(self):\n",
    "        print(\"Hello, my name is\", self.name)\n",
    "\n",
    "# Create two Person objects\n",
    "person1 = Person(\"John Doe\", 30)\n",
    "person2 = Person(\"Jane Doe\", 25)\n",
    "\n",
    "# Access the attributes of the Person objects\n",
    "print(person1.name, person1.age)\n",
    "print(person2.name, person2.age)\n",
    "\n",
    "# Call the say_hello() method of the Person objects\n",
    "person1.say_hello()\n",
    "person2.say_hello()\n"
   ]
  },
  {
   "cell_type": "markdown",
   "id": "763c1691-b284-4058-aaa6-da2aab185f5d",
   "metadata": {},
   "source": [
    "# Q2. Name the four pillars of OOPs."
   ]
  },
  {
   "cell_type": "markdown",
   "id": "4934641f-5358-40e9-954e-929e6dc54dbd",
   "metadata": {},
   "source": [
    "The four pillars of object-oriented programming (OOP) are:\n",
    "\n",
    "Abstraction: This involves hiding the implementation details of an object and exposing only the relevant information to the outside world. This allows objects to be treated as black boxes, making it easier to use and understand them.\n",
    "\n",
    "Encapsulation: This involves wrapping data and functions within an object, making it a self-contained entity. This helps to protect the data from outside interference and modification, and promotes data security and consistency.\n",
    "\n",
    "Inheritance: This involves creating a new class from an existing class. The new class inherits all the attributes and methods of the existing class, and can add new attributes and methods or override existing ones. This allows for code reusability and helps to avoid code duplication.\n",
    "\n",
    "Polymorphism: This involves creating objects that can take on multiple forms. This allows objects of different classes to be treated as objects of a common base class. This makes it possible to write generic code that can work with objects of different classes, as long as they implement a common interface."
   ]
  },
  {
   "cell_type": "markdown",
   "id": "86593897-c989-4627-956f-6942c38603ef",
   "metadata": {},
   "source": [
    "# Q3. Explain why the __init__() function is used. Give a suitable example."
   ]
  },
  {
   "cell_type": "markdown",
   "id": "b81ad72c-db64-48f8-a4c3-c506088ba38e",
   "metadata": {},
   "source": [
    "The __init__ function is used in Python to initialize an object when it is created. It is a special method that is automatically called when a new object of the class is created. The __init__ function is also known as a constructor.\n",
    "\n",
    "The __init__ function is used to set the initial values for the attributes of the object. For example, you can use the __init__ function to set the name, age, and address of a person when a new object of the class Person is created."
   ]
  },
  {
   "cell_type": "markdown",
   "id": "bbd513e4-d4a2-48fc-8b45-175f3b454e37",
   "metadata": {},
   "source": [
    "# Q4. Why self is used in OOPs?"
   ]
  },
  {
   "cell_type": "markdown",
   "id": "017a306f-f7fd-408e-a4c8-d8196b32259a",
   "metadata": {},
   "source": [
    "In object-oriented programming (OOP), the self keyword is used as a reference to the instance of the object that is calling a method. It is a way of referring to the current object, and it is automatically passed as the first argument to every method in the class.\n",
    "\n",
    "The self keyword allows the methods in a class to access the attributes and other methods of the same object. This is necessary because in OOP, objects have their own separate states, and the methods of an object need a way to access and manipulate these states."
   ]
  },
  {
   "cell_type": "code",
   "execution_count": 4,
   "id": "9316fc47-b01e-4da4-b07f-e015590f6841",
   "metadata": {},
   "outputs": [],
   "source": [
    "class Person:\n",
    "    def __init__(self, name, age, address):\n",
    "        self.name = name\n",
    "        self.age = age\n",
    "        self.address = address\n",
    "\n",
    "    def show_person_details(self):\n",
    "        print(f\"Name: {self.name}\")\n",
    "        print(f\"Age: {self.age}\")\n",
    "        print(f\"Address: {self.address}\")\n"
   ]
  },
  {
   "cell_type": "markdown",
   "id": "3368ea2c-8028-4303-9cca-d273a8b05b1d",
   "metadata": {},
   "source": [
    "# Q5. What is inheritance? Give an example for each type of inheritance."
   ]
  },
  {
   "cell_type": "markdown",
   "id": "48f3c921-382f-48f4-9ced-b60625893cd4",
   "metadata": {},
   "source": [
    "Inheritance is a fundamental concept in object-oriented programming (OOP) that allows a new class to be derived from an existing class. The derived class inherits all the attributes and behaviors of the existing class, and it can add new attributes or override existing behaviors as needed. The main idea behind inheritance is to promote code reuse and to allow for a more organized and efficient design of complex systems.\n",
    "\n",
    "There are several types of inheritance, including:\n",
    "\n",
    "Single Inheritance: In single inheritance, a derived class is derived from a single base class. For example, a \"Bird\" class can be derived from an \"Animal\" class, where the Bird class inherits all the attributes and behaviors of the Animal class.\n",
    "\n",
    "Multiple Inheritance: In multiple inheritance, a derived class is derived from multiple base classes. For example, a \"FlyingFish\" class can be derived from both \"Fish\" and \"Bird\" classes, where the FlyingFish class inherits the attributes and behaviors of both classes.\n",
    "\n",
    "Multi-level Inheritance: In multi-level inheritance, a derived class is derived from a derived class, which is derived from a base class. For example, a \"Penguin\" class can be derived from a \"Bird\" class, which is derived from an \"Animal\" class, where the Penguin class inherits the attributes and behaviors of the Bird class and the Animal class.\n",
    "\n",
    "Hierarchical Inheritance: In hierarchical inheritance, multiple derived classes are derived from a single base class. For example, a \"Duck\" class and a \"Swan\" class can be derived from a \"Bird\" class, where both classes inherit the attributes and behaviors of the Bird class.\n",
    "\n",
    "Hybrid Inheritance: Hybrid inheritance is a combination of two or more types of inheritance. For example, a \"Parrot\" class can be derived from both a \"Bird\" class and a \"TalkingAnimal\" class, where the Parrot class inherits the attributes and behaviors of both classes."
   ]
  },
  {
   "cell_type": "code",
   "execution_count": null,
   "id": "30e615da-3172-4dd8-83d9-55c6df9b7210",
   "metadata": {},
   "outputs": [],
   "source": []
  },
  {
   "cell_type": "code",
   "execution_count": null,
   "id": "1b01623d-6b09-4288-93c2-49eb625d25c4",
   "metadata": {},
   "outputs": [],
   "source": []
  }
 ],
 "metadata": {
  "kernelspec": {
   "display_name": "Python 3 (ipykernel)",
   "language": "python",
   "name": "python3"
  },
  "language_info": {
   "codemirror_mode": {
    "name": "ipython",
    "version": 3
   },
   "file_extension": ".py",
   "mimetype": "text/x-python",
   "name": "python",
   "nbconvert_exporter": "python",
   "pygments_lexer": "ipython3",
   "version": "3.10.8"
  }
 },
 "nbformat": 4,
 "nbformat_minor": 5
}
