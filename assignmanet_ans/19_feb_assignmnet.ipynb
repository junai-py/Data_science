{
 "cells": [
  {
   "cell_type": "markdown",
   "id": "e9776bf9-b754-4652-bfc2-799cbc907582",
   "metadata": {},
   "source": [
    "# Q1. What is Flask Framework? What are the advantages of Flask Framework?"
   ]
  },
  {
   "cell_type": "markdown",
   "id": "0fa3d433-dde3-45e9-818e-a6e4f9605415",
   "metadata": {},
   "source": [
    "Flask is a micro web framework written in Python that allows developers to build web applications quickly and easily. Flask is designed to be lightweight and minimalistic, providing only the essential features required to build a web application."
   ]
  },
  {
   "cell_type": "markdown",
   "id": "e5c819ca-ef56-4f74-83cc-4ef5b6b25a44",
   "metadata": {},
   "source": [
    "Simplicity: Flask is easy to learn and use, even for beginners. Its simple API and minimalistic design make it a great choice for small to medium-sized web applications.\n",
    "\n",
    "Flexibility: Flask is highly customizable and flexible, allowing developers to build web applications that meet their specific needs. Flask is not tightly coupled with a specific database, templating engine, or ORM (Object-Relational Mapping) tool, giving developers the freedom to choose the tools and technologies that best suit their requirements.\n",
    "\n",
    "Scalability: Flask is highly performant and scalable. It is designed to handle large amounts of traffic and can be easily scaled up or down depending on the needs of the application.\n",
    "\n",
    "Flask extensions: Flask has a large ecosystem of extensions that provide additional features and functionality, making it easy to add new features to the application without having to reinvent the wheel.\n",
    "\n",
    "Testing: Flask has built-in support for testing, making it easy to write and run tests for the application.\n",
    "\n",
    "Community and documentation: Flask has a large and active community of developers, making it easy to find help and support when needed. Flask also has extensive documentation and tutorials, making it easy for beginners to get started with the framework."
   ]
  },
  {
   "cell_type": "markdown",
   "id": "7aadf5e3-e12f-4fa9-9942-baf541c95227",
   "metadata": {},
   "source": [
    "# Q2. Create a simple Flask application to display ‘Hello World!!’. Attach the screenshot of the output in Jupyter Notebook."
   ]
  },
  {
   "cell_type": "code",
   "execution_count": null,
   "id": "98a9d630-ef95-43d1-bae6-4b135dadc418",
   "metadata": {},
   "outputs": [],
   "source": [
    "from flask import Flask\n",
    "\n",
    "app = Flask(__name__)\n",
    "\n",
    "@app.route('/')\n",
    "def hello():\n",
    "    return 'Hello World!!'\n",
    "\n",
    "if __name__ == '__main__':\n",
    "    app.run()\n"
   ]
  },
  {
   "cell_type": "markdown",
   "id": "817cbc05-3ae4-4c83-a923-9d5124b59e56",
   "metadata": {},
   "source": [
    "https://github.com/junai-py/Data_science/blob/main/assignmanet_ans/Screenshot_20230226_130536.png"
   ]
  },
  {
   "cell_type": "markdown",
   "id": "9ff9bfd6-b963-4754-8db2-24bd0629569c",
   "metadata": {},
   "source": [
    "# Q3. What is App routing in Flask? Why do we use app routes?"
   ]
  },
  {
   "cell_type": "markdown",
   "id": "72c87077-216f-4460-a7a7-25d5f5c04dc5",
   "metadata": {},
   "source": [
    "In Flask, app routing refers to the process of associating URLs or routes with functions that will be called when those URLs are requested by a client. This is done using the @app.route() decorator, which is used to define routes for different URLs and associate them with functions that will generate the response for that URL."
   ]
  },
  {
   "cell_type": "markdown",
   "id": "8ffdc069-945b-4da1-a60b-f9141c17595b",
   "metadata": {},
   "source": [
    "the @app.route() decorator is used to define the URL /hello and associate it with the hello() function. When a client requests the URL /hello, Flask will call the hello() function and return the string 'Hello World!'.\n",
    "\n",
    "We use app routes in Flask to map URLs to specific functions that will handle the request and generate a response. This allows us to build web applications with multiple pages or URLs that serve different content, all while keeping the code organized and easy to read."
   ]
  },
  {
   "cell_type": "markdown",
   "id": "444ed97c-bbd0-42bc-97fb-72a911a106de",
   "metadata": {},
   "source": [
    "# Q4. Create a “/welcome” route to display the welcome message “Welcome to ABC Corporation” and a “/” route to show the following details:\n",
    "### Company Name: ABC Corporation\n",
    "### Location: India\n",
    "### Contact Detail: 999-999-9999"
   ]
  },
  {
   "cell_type": "code",
   "execution_count": null,
   "id": "642d29c9-2c2e-4526-86c9-e54dbc1ab236",
   "metadata": {},
   "outputs": [],
   "source": [
    "from flask import Flask\n",
    "\n",
    "app = Flask(__name__)\n",
    "\n",
    "@app.route('/welcome')\n",
    "def welcome():\n",
    "    return 'Welcome to ABC Corporation'\n",
    "\n",
    "@app.route('/')\n",
    "def company_info():\n",
    "    return 'Company Name: ABC Corporation<br>Location: India<br>Contact Detail: 999-999-9999'\n",
    "\n",
    "if __name__ == '__main__':\n",
    "    app.run()\n"
   ]
  },
  {
   "cell_type": "markdown",
   "id": "3e9aea05-e9df-43f8-ba4b-f649e856ee86",
   "metadata": {},
   "source": [
    "https://github.com/junai-py/Data_science/blob/main/assignmanet_ans/Screenshot_20230226_133123.png\n",
    "\n",
    "https://github.com/junai-py/Data_science/blob/main/assignmanet_ans/Screenshot_20230226_133138.png"
   ]
  },
  {
   "cell_type": "markdown",
   "id": "175f0e79-d9ee-47cd-ab5d-dc3b1648485c",
   "metadata": {},
   "source": [
    "# Q5. What function is used in Flask for URL Building? Write a Python code to demonstrate the working of the url_for() function."
   ]
  },
  {
   "cell_type": "code",
   "execution_count": null,
   "id": "81dfbfb7-9e02-4a74-ace4-707b68d77207",
   "metadata": {},
   "outputs": [],
   "source": [
    "from flask import Flask, url_for\n",
    "\n",
    "app = Flask(__name__)\n",
    "\n",
    "@app.route('/')\n",
    "def index():\n",
    "    return 'This is the homepage.'\n",
    "\n",
    "@app.route('/hello')\n",
    "def hello():\n",
    "    return 'Hello, World!'\n",
    "\n",
    "@app.route('/user/<username>')\n",
    "def show_user_profile(username):\n",
    "    return 'User %s' % username\n",
    "\n",
    "@app.route('/post/<int:post_id>')\n",
    "def show_post(post_id):\n",
    "    return 'Post %d' % post_id\n",
    "\n",
    "@app.route('/login')\n",
    "def login():\n",
    "    return 'Please log in'\n",
    "\n",
    "with app.test_request_context():\n",
    "    print(url_for('index'))\n",
    "    print(url_for('hello'))\n",
    "    print(url_for('hello', next='/'))\n",
    "    print(url_for('show_user_profile', username='John Doe'))\n",
    "    print(url_for('show_post', post_id=123))\n",
    "    print(url_for('login'))\n"
   ]
  }
 ],
 "metadata": {
  "kernelspec": {
   "display_name": "Python 3 (ipykernel)",
   "language": "python",
   "name": "python3"
  },
  "language_info": {
   "codemirror_mode": {
    "name": "ipython",
    "version": 3
   },
   "file_extension": ".py",
   "mimetype": "text/x-python",
   "name": "python",
   "nbconvert_exporter": "python",
   "pygments_lexer": "ipython3",
   "version": "3.10.8"
  }
 },
 "nbformat": 4,
 "nbformat_minor": 5
}
