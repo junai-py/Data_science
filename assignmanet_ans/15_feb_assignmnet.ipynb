{
 "cells": [
  {
   "cell_type": "markdown",
   "id": "9d1fc4d9-bceb-486c-b252-6f68ddf81166",
   "metadata": {},
   "source": [
    "# Q1. What is multiprocessing in python? Why is it useful?"
   ]
  },
  {
   "cell_type": "markdown",
   "id": "394c1ce8-aaf5-44dc-adb1-c011f6fcedee",
   "metadata": {},
   "source": [
    "Multiprocessing is a module in Python's standard library that provides support for spawning processes using an API similar to the threading module. The multiprocessing module allows you to spawn new processes, communicate between them, and synchronize their execution."
   ]
  },
  {
   "cell_type": "markdown",
   "id": "8f3377fc-7d9d-4192-a9ef-e55da4285693",
   "metadata": {},
   "source": [
    "Improved performance\n",
    "Better resource utilization\n",
    "Fault tolerance\n",
    "Better isolation\n",
    "Easy to use"
   ]
  },
  {
   "cell_type": "markdown",
   "id": "956ec9e6-e80b-42f1-a615-7fddfb761e47",
   "metadata": {},
   "source": [
    "# Q2. What are the differences between multiprocessing and multithreading?"
   ]
  },
  {
   "cell_type": "markdown",
   "id": "9ef454dd-55fe-40e7-a07e-72af88f8cd41",
   "metadata": {},
   "source": [
    "Multiprocessing and multithreading are both techniques used in computing to improve performance by allowing programs to execute multiple tasks concurrently. However, there are some key differences between the two approaches:\n",
    "\n",
    "Execution Model: The main difference between multiprocessing and multithreading is in their execution model. In multiprocessing, multiple processes are spawned, each with its own memory space, while in multithreading, multiple threads are created within a single process and share the same memory space.\n",
    "\n",
    "Resource Utilization: Multiprocessing typically uses more system resources than multithreading because each process has its own memory space, while threads share the same memory space. This means that multiprocessing can be more resource-intensive but can also provide better performance gains in some cases.\n",
    "\n",
    "Communication: Inter-process communication is typically more complex than inter-thread communication. With multiprocessing, you need to use specialized tools such as pipes, queues, and shared memory to facilitate communication between processes. With multithreading, communication between threads is simpler and can be done using shared data structures or thread-safe communication channels.\n",
    "\n",
    "Isolation: Multiprocessing provides better isolation between processes since each process has its own memory space. This can help prevent conflicts between processes and improve fault tolerance. In contrast, multithreading can be prone to conflicts and synchronization issues, especially when multiple threads try to access shared resources simultaneously.\n",
    "\n",
    "Scalability: Multiprocessing is generally more scalable than multithreading since it can take advantage of multiple CPUs and distribute the workload across multiple processes. With multithreading, the number of threads is typically limited by the number of CPU cores available."
   ]
  },
  {
   "cell_type": "markdown",
   "id": "85231e97-db7a-4dc9-ba53-dfaf14ad3ecd",
   "metadata": {},
   "source": [
    "# Q3. Write a python code to create a process using the multiprocessing module."
   ]
  },
  {
   "cell_type": "code",
   "execution_count": 2,
   "id": "c0cbf840-f9ee-4dad-8654-fe3a9fda0789",
   "metadata": {},
   "outputs": [
    {
     "name": "stdout",
     "output_type": "stream",
     "text": [
      "Hello from a new process!\n"
     ]
    }
   ],
   "source": [
    "import multiprocessing\n",
    "\n",
    "def my_process():\n",
    "    print(\"Hello from a new process!\")\n",
    "\n",
    "if __name__ == '__main__':\n",
    "    p = multiprocessing.Process(target=my_process)\n",
    "    p.start()\n",
    "    p.join()\n"
   ]
  },
  {
   "cell_type": "markdown",
   "id": "e86b4027-0d6e-4e37-aaf1-dbcf066db3d0",
   "metadata": {},
   "source": [
    "# Q4. What is a multiprocessing pool in python? Why is it used?"
   ]
  },
  {
   "cell_type": "markdown",
   "id": "35a9a026-606e-4f7d-90e5-071918379d99",
   "metadata": {},
   "source": [
    "A multiprocessing pool is a collection of worker processes that can be used to execute tasks in parallel across multiple CPUs. The multiprocessing module in Python provides a Pool class that allows you to create a pool of worker processes and submit tasks to be executed by those processes. The Pool class provides a simple interface for parallelizing function calls and distributing the workload across multiple processes."
   ]
  },
  {
   "cell_type": "code",
   "execution_count": 3,
   "id": "02d0e266-96e7-4570-a832-481a5b32a1b6",
   "metadata": {},
   "outputs": [
    {
     "name": "stdout",
     "output_type": "stream",
     "text": [
      "[0, 1, 4, 9, 16, 25, 36, 49, 64, 81]\n"
     ]
    }
   ],
   "source": [
    "import multiprocessing\n",
    "\n",
    "def square(x):\n",
    "    return x*x\n",
    "\n",
    "if __name__ == '__main__':\n",
    "    # Create a pool with 4 worker processes\n",
    "    with multiprocessing.Pool(processes=4) as pool:\n",
    "        # Submit 10 tasks to the pool\n",
    "        results = [pool.apply_async(square, (i,)) for i in range(10)]\n",
    "        # Wait for the tasks to complete and retrieve the results\n",
    "        output = [result.get() for result in results]\n",
    "        print(output)\n"
   ]
  },
  {
   "cell_type": "markdown",
   "id": "4df83179-566f-4868-8bc7-b20a523c60a8",
   "metadata": {},
   "source": [
    "# Q5. How can we create a pool of worker processes in python using the multiprocessing module?"
   ]
  },
  {
   "cell_type": "markdown",
   "id": "f2c83eae-d2e5-4e3a-8ebd-03bdb67b63c1",
   "metadata": {},
   "source": [
    "In Python, you can create a pool of worker processes using the Pool class in the multiprocessing module"
   ]
  },
  {
   "cell_type": "code",
   "execution_count": 4,
   "id": "33d854b6-86db-4e57-b9f8-8d01b2ac221d",
   "metadata": {},
   "outputs": [
    {
     "ename": "NameError",
     "evalue": "name 'result' is not defined",
     "output_type": "error",
     "traceback": [
      "\u001b[0;31m---------------------------------------------------------------------------\u001b[0m",
      "\u001b[0;31mRemoteTraceback\u001b[0m                           Traceback (most recent call last)",
      "\u001b[0;31mRemoteTraceback\u001b[0m: \n\"\"\"\nTraceback (most recent call last):\n  File \"/opt/conda/lib/python3.10/multiprocessing/pool.py\", line 125, in worker\n    result = (True, func(*args, **kwds))\n  File \"/opt/conda/lib/python3.10/multiprocessing/pool.py\", line 48, in mapstar\n    return list(map(*args))\n  File \"/tmp/ipykernel_258/2329495578.py\", line 5, in my_function\n    return result\nNameError: name 'result' is not defined\n\"\"\"",
      "\nThe above exception was the direct cause of the following exception:\n",
      "\u001b[0;31mNameError\u001b[0m                                 Traceback (most recent call last)",
      "Cell \u001b[0;32mIn[4], line 9\u001b[0m\n\u001b[1;32m      7\u001b[0m \u001b[38;5;28;01mif\u001b[39;00m \u001b[38;5;18m__name__\u001b[39m \u001b[38;5;241m==\u001b[39m \u001b[38;5;124m'\u001b[39m\u001b[38;5;124m__main__\u001b[39m\u001b[38;5;124m'\u001b[39m:\n\u001b[1;32m      8\u001b[0m     \u001b[38;5;28;01mwith\u001b[39;00m multiprocessing\u001b[38;5;241m.\u001b[39mPool(processes\u001b[38;5;241m=\u001b[39m\u001b[38;5;241m4\u001b[39m) \u001b[38;5;28;01mas\u001b[39;00m pool:\n\u001b[0;32m----> 9\u001b[0m         results \u001b[38;5;241m=\u001b[39m \u001b[43mpool\u001b[49m\u001b[38;5;241;43m.\u001b[39;49m\u001b[43mmap\u001b[49m\u001b[43m(\u001b[49m\u001b[43mmy_function\u001b[49m\u001b[43m,\u001b[49m\u001b[43m \u001b[49m\u001b[38;5;28;43mrange\u001b[39;49m\u001b[43m(\u001b[49m\u001b[38;5;241;43m10\u001b[39;49m\u001b[43m)\u001b[49m\u001b[43m)\u001b[49m\n\u001b[1;32m     10\u001b[0m         \u001b[38;5;28mprint\u001b[39m(results)\n",
      "File \u001b[0;32m/opt/conda/lib/python3.10/multiprocessing/pool.py:367\u001b[0m, in \u001b[0;36mPool.map\u001b[0;34m(self, func, iterable, chunksize)\u001b[0m\n\u001b[1;32m    362\u001b[0m \u001b[38;5;28;01mdef\u001b[39;00m \u001b[38;5;21mmap\u001b[39m(\u001b[38;5;28mself\u001b[39m, func, iterable, chunksize\u001b[38;5;241m=\u001b[39m\u001b[38;5;28;01mNone\u001b[39;00m):\n\u001b[1;32m    363\u001b[0m     \u001b[38;5;124;03m'''\u001b[39;00m\n\u001b[1;32m    364\u001b[0m \u001b[38;5;124;03m    Apply `func` to each element in `iterable`, collecting the results\u001b[39;00m\n\u001b[1;32m    365\u001b[0m \u001b[38;5;124;03m    in a list that is returned.\u001b[39;00m\n\u001b[1;32m    366\u001b[0m \u001b[38;5;124;03m    '''\u001b[39;00m\n\u001b[0;32m--> 367\u001b[0m     \u001b[38;5;28;01mreturn\u001b[39;00m \u001b[38;5;28;43mself\u001b[39;49m\u001b[38;5;241;43m.\u001b[39;49m\u001b[43m_map_async\u001b[49m\u001b[43m(\u001b[49m\u001b[43mfunc\u001b[49m\u001b[43m,\u001b[49m\u001b[43m \u001b[49m\u001b[43miterable\u001b[49m\u001b[43m,\u001b[49m\u001b[43m \u001b[49m\u001b[43mmapstar\u001b[49m\u001b[43m,\u001b[49m\u001b[43m \u001b[49m\u001b[43mchunksize\u001b[49m\u001b[43m)\u001b[49m\u001b[38;5;241;43m.\u001b[39;49m\u001b[43mget\u001b[49m\u001b[43m(\u001b[49m\u001b[43m)\u001b[49m\n",
      "File \u001b[0;32m/opt/conda/lib/python3.10/multiprocessing/pool.py:774\u001b[0m, in \u001b[0;36mApplyResult.get\u001b[0;34m(self, timeout)\u001b[0m\n\u001b[1;32m    772\u001b[0m     \u001b[38;5;28;01mreturn\u001b[39;00m \u001b[38;5;28mself\u001b[39m\u001b[38;5;241m.\u001b[39m_value\n\u001b[1;32m    773\u001b[0m \u001b[38;5;28;01melse\u001b[39;00m:\n\u001b[0;32m--> 774\u001b[0m     \u001b[38;5;28;01mraise\u001b[39;00m \u001b[38;5;28mself\u001b[39m\u001b[38;5;241m.\u001b[39m_value\n",
      "\u001b[0;31mNameError\u001b[0m: name 'result' is not defined"
     ]
    }
   ],
   "source": [
    "import multiprocessing\n",
    "\n",
    "def my_function(arg):\n",
    "    # some long running task here\n",
    "    return result\n",
    "\n",
    "if __name__ == '__main__':\n",
    "    with multiprocessing.Pool(processes=4) as pool:\n",
    "        results = pool.map(my_function, range(10))\n",
    "        print(results)\n"
   ]
  },
  {
   "cell_type": "markdown",
   "id": "46eefb9f-8bc1-4cda-aa4c-1a62d8d0c9ad",
   "metadata": {},
   "source": [
    "# Q6. Write a python program to create 4 processes, each process should print a different number using the multiprocessing module in python."
   ]
  },
  {
   "cell_type": "code",
   "execution_count": 5,
   "id": "d6bb98bb-cfc7-4f2d-9483-4ac85d4bde44",
   "metadata": {},
   "outputs": [
    {
     "name": "stdout",
     "output_type": "stream",
     "text": [
      "Process 0: 0\n",
      "Process 1: 1\n",
      "Process 2: 2\n",
      "Process 3: 3\n"
     ]
    }
   ],
   "source": [
    "import multiprocessing\n",
    "\n",
    "def print_number(num):\n",
    "    print(f\"Process {num}: {num}\")\n",
    "\n",
    "if __name__ == '__main__':\n",
    "    processes = []\n",
    "    for i in range(4):\n",
    "        p = multiprocessing.Process(target=print_number, args=(i,))\n",
    "        processes.append(p)\n",
    "        p.start()\n",
    "    for p in processes:\n",
    "        p.join()\n"
   ]
  },
  {
   "cell_type": "code",
   "execution_count": null,
   "id": "7e2286e2-dcdc-4213-a13d-c177bb69f6b5",
   "metadata": {},
   "outputs": [],
   "source": []
  }
 ],
 "metadata": {
  "kernelspec": {
   "display_name": "Python 3 (ipykernel)",
   "language": "python",
   "name": "python3"
  },
  "language_info": {
   "codemirror_mode": {
    "name": "ipython",
    "version": 3
   },
   "file_extension": ".py",
   "mimetype": "text/x-python",
   "name": "python",
   "nbconvert_exporter": "python",
   "pygments_lexer": "ipython3",
   "version": "3.10.8"
  }
 },
 "nbformat": 4,
 "nbformat_minor": 5
}
