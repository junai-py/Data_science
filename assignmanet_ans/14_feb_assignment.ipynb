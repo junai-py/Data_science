{
 "cells": [
  {
   "cell_type": "markdown",
   "id": "41e324ce-23f5-4831-af75-7b06d976c603",
   "metadata": {},
   "source": [
    "# Q1) what is multithreading in python? why is it used? name the module used to handel threads in python"
   ]
  },
  {
   "cell_type": "markdown",
   "id": "00259642-9d6b-4f19-b308-aa5238fc207c",
   "metadata": {},
   "source": [
    "Multithreading is used in Python to perform tasks that may take a long time to complete, such as I/O operations, network communication, or CPU-bound computations. By using multithreading, these tasks can be performed in the background while the main program continues to run, which can help to improve the overall performance of the program."
   ]
  },
  {
   "cell_type": "markdown",
   "id": "41536eb3-b23e-4eb8-89d7-004b89dc37af",
   "metadata": {},
   "source": [
    "The threading module is used to handle threads in Python. This module provides a way to create and manage threads in a Python program. It also provides synchronization primitives, such as locks and semaphores, that can be used to coordinate the execution of multiple threads."
   ]
  },
  {
   "cell_type": "markdown",
   "id": "6aa099fa-a586-4e1b-b845-dac170b744b9",
   "metadata": {},
   "source": [
    "# Q2) why threading module used? write the use of following functions activeCount(),currentThread(),enumerate()"
   ]
  },
  {
   "cell_type": "markdown",
   "id": "20aa527b-09c7-4728-9695-51e2c7a7b9c6",
   "metadata": {},
   "source": [
    "The threading module is used in Python to implement multithreading, which allows multiple threads of execution to run concurrently within a single program. The module provides a high-level interface for creating and managing threads, as well as synchronization primitives, such as locks and semaphores, that can be used to coordinate the execution of multiple threads.\n",
    "\n",
    "Here are the descriptions of the following functions provided by the threading module:\n",
    "\n",
    "activeCount(): This function returns the number of Thread objects that are currently active in the program. An active thread is a thread that has been started but has not yet finished running. This function can be useful for debugging and for monitoring the performance of the program.\n",
    "\n",
    "currentThread(): This function returns a Thread object that represents the current thread of execution. This can be useful for identifying the current thread and for accessing thread-specific data.\n",
    "\n",
    "enumerate(): This function returns a list of all Thread objects that are currently active in the program. This can be useful for debugging and for monitoring the performance of the program.\n",
    "\n"
   ]
  },
  {
   "cell_type": "markdown",
   "id": "a8c82824-7d7f-4d93-8f18-579884fe66cc",
   "metadata": {},
   "source": [
    "# Q3) Explain the following functions run(),start(),join(),isAlive()"
   ]
  },
  {
   "cell_type": "markdown",
   "id": "970296e2-b717-430e-8c09-d8c49b9364e3",
   "metadata": {},
   "source": [
    "start(): This method is used to start a new thread by calling the run() method in a separate thread of execution. When you call start(), a new thread is created, and the run() method is called in that thread. This allows the main program to continue running while the new thread executes in the background.\n",
    "\n",
    "run(): This method is the entry point for a new thread. It contains the code that will be executed in the new thread when the start() method is called. You should override this method in a subclass of the Thread class to provide the functionality you want for the new thread.\n",
    "\n",
    "join(): This method is used to wait for a thread to finish before continuing with the main program. When you call join() on a Thread object, the main program blocks until the thread has finished executing. This can be useful if you need to synchronize the execution of multiple threads.\n",
    "\n",
    "isAlive(): This method is used to check whether a thread is currently running. It returns True if the thread is running, and False otherwise. This can be useful for monitoring the status of a thread."
   ]
  },
  {
   "cell_type": "markdown",
   "id": "375be948-cdfb-4b83-b5a0-a370f9b8ad9e",
   "metadata": {},
   "source": [
    "# Q4) write a python program to create two threads. Thread one must print the list of squares and thread two must print the list of cubes"
   ]
  },
  {
   "cell_type": "code",
   "execution_count": 1,
   "id": "1c56c759-3d1c-4a1f-9464-c7d67458d8a7",
   "metadata": {},
   "outputs": [
    {
     "name": "stdout",
     "output_type": "stream",
     "text": [
      "1 squared is 1\n",
      "2 squared is 4\n",
      "3 squared is 9\n",
      "4 squared is 16\n",
      "5 squared is 25\n",
      "6 squared is 36\n",
      "7 squared is 49\n",
      "8 squared is 64\n",
      "9 squared is 81\n",
      "10 squared is 100\n",
      "1 cubed is 1\n",
      "2 cubed is 8\n",
      "3 cubed is 27\n",
      "4 cubed is 64\n",
      "5 cubed is 125\n",
      "6 cubed is 216\n",
      "7 cubed is 343\n",
      "8 cubed is 512\n",
      "9 cubed is 729\n",
      "10 cubed is 1000\n",
      "Finished\n"
     ]
    }
   ],
   "source": [
    "import threading\n",
    "\n",
    "def print_squares():\n",
    "    for i in range(1, 11):\n",
    "        print(\"{} squared is {}\".format(i, i*i))\n",
    "\n",
    "def print_cubes():\n",
    "    for i in range(1, 11):\n",
    "        print(\"{} cubed is {}\".format(i, i*i*i))\n",
    "\n",
    "# create two Thread objects\n",
    "t1 = threading.Thread(target=print_squares)\n",
    "t2 = threading.Thread(target=print_cubes)\n",
    "\n",
    "# start the threads\n",
    "t1.start()\n",
    "t2.start()\n",
    "\n",
    "# wait for the threads to finish\n",
    "t1.join()\n",
    "t2.join()\n",
    "\n",
    "# print a message when both threads have finished\n",
    "print(\"Finished\")\n"
   ]
  },
  {
   "cell_type": "markdown",
   "id": "f2e02c56-9f34-4750-95ba-6c929d65aa78",
   "metadata": {},
   "source": [
    "# Q5) State advantages and disadvantages of multithreading"
   ]
  },
  {
   "cell_type": "markdown",
   "id": "8654247a-55eb-4e47-b163-ee639ee78a08",
   "metadata": {},
   "source": [
    "## Advantages:\n",
    "\n",
    "Improved performance: Multithreading can improve the performance of applications that perform multiple tasks simultaneously by allowing multiple threads to execute concurrently.\n",
    "\n",
    "Simplified programming: Multithreading can simplify programming by allowing you to separate different tasks into separate threads, making the code easier to read and understand.\n",
    "\n",
    "Increased responsiveness: Multithreading can improve the responsiveness of interactive applications by allowing the user interface to remain responsive while other tasks are running in the background.\n",
    "\n",
    "Efficient use of resources: Multithreading can help to efficiently use system resources by allowing multiple threads to share the same resources.\n",
    "\n"
   ]
  },
  {
   "cell_type": "markdown",
   "id": "74706624-aba7-4cad-969d-d3191789eb94",
   "metadata": {},
   "source": [
    "## Disadvantages:\n",
    "\n",
    "Complexity: Multithreading adds a layer of complexity to the program, which can make it more difficult to understand and debug.\n",
    "\n",
    "Difficulty of synchronization: When multiple threads access shared resources, synchronization becomes necessary to prevent race conditions and ensure that the data is consistent. Synchronization can be difficult to get right and can introduce performance overhead.\n",
    "\n",
    "Increased memory usage: Each thread requires its own stack and other overhead, which can increase the memory usage of the program.\n",
    "\n",
    "Difficulty of debugging: Multithreaded programs can be difficult to debug due to their complexity and the possibility of race conditions and deadlocks."
   ]
  },
  {
   "cell_type": "markdown",
   "id": "339c538f-0aaf-45b1-ae10-6c71550a6265",
   "metadata": {},
   "source": [
    "# Q6. Explain deadlocks and race conditions."
   ]
  },
  {
   "cell_type": "markdown",
   "id": "d28625d7-d730-44e3-affc-ba5ab4e5ee1b",
   "metadata": {},
   "source": [
    "## Deadlocks: \n",
    "Deadlocks occur when two or more threads are blocked, waiting for each other to release resources that they need. Deadlocks can occur when there are shared resources, and each thread is waiting for another thread to release a resource that it needs to continue. In a deadlock, the threads are stuck in a loop waiting for each other, and the program cannot proceed. Deadlocks can be difficult to detect and prevent, and can lead to the program crashing or becoming unresponsive.\n",
    "\n",
    "## Race conditions: \n",
    "Race conditions occur when the behavior of the program depends on the relative timing of different threads, and the outcome is unpredictable. Race conditions can occur when two or more threads access a shared resource, and the order of their access is not controlled. This can lead to situations where the program's behavior is"
   ]
  },
  {
   "cell_type": "code",
   "execution_count": null,
   "id": "7d9dcbb2-3ce2-415f-9d3a-108b70a9c5a5",
   "metadata": {},
   "outputs": [],
   "source": []
  }
 ],
 "metadata": {
  "kernelspec": {
   "display_name": "Python 3 (ipykernel)",
   "language": "python",
   "name": "python3"
  },
  "language_info": {
   "codemirror_mode": {
    "name": "ipython",
    "version": 3
   },
   "file_extension": ".py",
   "mimetype": "text/x-python",
   "name": "python",
   "nbconvert_exporter": "python",
   "pygments_lexer": "ipython3",
   "version": "3.10.8"
  }
 },
 "nbformat": 4,
 "nbformat_minor": 5
}
